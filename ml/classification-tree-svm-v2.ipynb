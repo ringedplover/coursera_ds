{
 "cells": [
  {
   "cell_type": "markdown",
   "id": "8ecfe7df-c5e9-486f-8313-e5a7846a7f56",
   "metadata": {},
   "source": [
    "<center>\n",
    "    <img src=\"https://cf-courses-data.s3.us.cloud-object-storage.appdomain.cloud/assets/logos/SN_web_lightmode.png\" width=\"300\" alt=\"cognitiveclass.ai logo\">\n",
    "</center>\n"
   ]
  },
  {
   "cell_type": "markdown",
   "id": "bff0d411-5385-4537-a4a8-f862c5fd1422",
   "metadata": {},
   "source": [
    "# **Credit Card Fraud Detection using Scikit-Learn and Snap ML**\n"
   ]
  },
  {
   "cell_type": "markdown",
   "id": "7421e06c-907b-416f-ba5d-71bf65144410",
   "metadata": {},
   "source": [
    "Estimated time needed: **30** minutes\n"
   ]
  },
  {
   "cell_type": "markdown",
   "id": "dbb8f4a0-7cf8-433a-8512-b824f14be698",
   "metadata": {},
   "source": [
    "In this exercise session you will consolidate your machine learning (ML) modeling skills by using two popular classification models to recognize fraudulent credit card transactions. These models are: Decision Tree and Support Vector Machine. You will use a real dataset to train each of these models. The dataset includes information about \n",
    "transactions made by credit cards in September 2013 by European cardholders. You will use the trained model to assess if a credit card transaction is legitimate or not.\n",
    "\n",
    "In the current exercise session, you will practice not only the Scikit-Learn Python interface, but also the Python API offered by the Snap Machine Learning (Snap ML) library. Snap ML is a high-performance IBM library for ML modeling. It provides highly-efficient CPU/GPU implementations of linear models and tree-based models. Snap ML not only accelerates ML algorithms through system awareness, but it also offers novel ML algorithms with best-in-class accuracy. For more information, please visit [snapml](https://ibm.biz/BdPfxy) information page.\n"
   ]
  },
  {
   "cell_type": "markdown",
   "id": "9a56f6e1-7edf-48a0-8c7c-2d963a85bc16",
   "metadata": {},
   "source": [
    "## Objectives\n"
   ]
  },
  {
   "cell_type": "markdown",
   "id": "62e77d94-966f-428b-aeb5-8ac158c53284",
   "metadata": {},
   "source": [
    "After completing this lab you will be able to:\n"
   ]
  },
  {
   "cell_type": "markdown",
   "id": "35e27dd3-d5ab-4685-8d28-4677d7d8f860",
   "metadata": {},
   "source": [
    "* Perform basic data preprocessing in Python\n",
    "* Model a classification task using the Scikit-Learn and Snap ML Python APIs\n",
    "* Train Suppport Vector Machine and Decision Tree models using Scikit-Learn and Snap ML\n",
    "* Run inference and assess the quality of the trained models\n"
   ]
  },
  {
   "cell_type": "markdown",
   "id": "5d508431-971b-47ce-90a8-199238dec353",
   "metadata": {},
   "source": [
    "## Table of Contents\n"
   ]
  },
  {
   "cell_type": "markdown",
   "id": "0ab6dd8b-dfab-4a6d-b35b-887ce2035603",
   "metadata": {},
   "source": [
    "<div class=\"alert alert-block alert-info\" style=\"margin-top: 10px\">\n",
    "    <ol>\n",
    "        <li><a href=\"#Introduction\">Introduction</a></li>\n",
    "        <li><a href=\"#import_libraries\">Import Libraries</a></li>\n",
    "        <li><a href=\"#dataset_analysis\">Dataset Analysis</a></li>\n",
    "        <li><a href=\"#dataset_preprocessing\">Dataset Preprocessing</a></li>\n",
    "        <li><a href=\"#dataset_split\">Dataset Train/Test Split</a></li>\n",
    "        <li><a href=\"#dt_sklearn\">Build a Decision Tree Classifier model with Scikit-Learn</a></li>\n",
    "        <li><a href=\"#dt_snap\">Build a Decision Tree Classifier model with Snap ML</a></li>\n",
    "        <li><a href=\"#Evaluate-the-ScikitLearn-and-Snap-ML-Decision-Tree-Classifier-Models\">Evaluate the ScikitLearn and Snap ML Decision Tree Classifier Models</a></li>\n",
    "        <li><a href=\"#svm_sklearn\">Build a Support Vector Machine model with Scikit-Learn</a></li>\n",
    "        <li><a href=\"#svm_snap\">Build a Support Vector Machine model with Snap ML</a></li>\n",
    "        <li><a href=\"#svm_sklearn_snap\">Evaluate the Scikit-Learn and Snap ML Support Vector Machine Models</a></li>\n",
    "    </ol>\n",
    "</div>\n",
    "<br>\n",
    "<hr>\n"
   ]
  },
  {
   "cell_type": "markdown",
   "id": "f44375ad-5559-407a-ba6e-07845358161e",
   "metadata": {},
   "source": [
    "# Introduction\n",
    "<div>\n",
    "  Imagine that you work for a financial institution and part of your job is to build a model that predicts if a credit card transaction is fraudulent or not. You can model the problem as a binary classification problem. A transaction belongs to the positive class (1) if it is a fraud, otherwise it belongs to the negative class (0).\n",
    "    <br>\n",
    "    <br>You have access to transactions that occured over a certain period of time. The majority of the transactions are normally legitimate and only a small fraction are non-legitimate. Thus, typically you have access to a dataset that is highly unbalanced. This is also the case of the current dataset: only 492 transactions out of 284,807 are fraudulent (the positive class - the frauds - accounts for 0.172% of all transactions).\n",
    "    <br>\n",
    "    <br>This is a Kaggle dataset. You can find this \"Credit Card Fraud Detection\" dataset from the following link: <a href=\"https://www.kaggle.com/mlg-ulb/creditcardfraud\">Credit Card Fraud Detection</a>.\n",
    "<br>\n",
    "    <br>To train the model, you can use part of the input dataset, while the remaining data can be utilized to assess the quality of the trained model. First, let's import the necessary libraries and download the dataset.\n",
    "    <br>\n",
    "</div>\n"
   ]
  },
  {
   "cell_type": "markdown",
   "id": "7e669c2c-0bd2-47b9-8692-92040c8fec33",
   "metadata": {},
   "source": [
    "<div id=\"import_libraries\">\n",
    "    <h2>Import Libraries</h2>\n",
    "</div>\n"
   ]
  },
  {
   "cell_type": "code",
   "execution_count": 1,
   "id": "b68ed28c-8c85-4de6-b427-753b92cc5597",
   "metadata": {},
   "outputs": [
    {
     "name": "stdout",
     "output_type": "stream",
     "text": [
      "Collecting scikit-learn\n",
      "  Using cached scikit_learn-1.6.0-cp312-cp312-win_amd64.whl.metadata (15 kB)\n",
      "Collecting numpy>=1.19.5 (from scikit-learn)\n",
      "  Downloading numpy-2.2.1-cp312-cp312-win_amd64.whl.metadata (60 kB)\n",
      "     ---------------------------------------- 0.0/60.8 kB ? eta -:--:--\n",
      "     ------ --------------------------------- 10.2/60.8 kB ? eta -:--:--\n",
      "     ------------------- ------------------ 30.7/60.8 kB 435.7 kB/s eta 0:00:01\n",
      "     -------------------------------------- 60.8/60.8 kB 544.1 kB/s eta 0:00:00\n",
      "Collecting scipy>=1.6.0 (from scikit-learn)\n",
      "  Using cached scipy-1.14.1-cp312-cp312-win_amd64.whl.metadata (60 kB)\n",
      "Collecting joblib>=1.2.0 (from scikit-learn)\n",
      "  Using cached joblib-1.4.2-py3-none-any.whl.metadata (5.4 kB)\n",
      "Collecting threadpoolctl>=3.1.0 (from scikit-learn)\n",
      "  Using cached threadpoolctl-3.5.0-py3-none-any.whl.metadata (13 kB)\n",
      "Using cached scikit_learn-1.6.0-cp312-cp312-win_amd64.whl (11.1 MB)\n",
      "Using cached joblib-1.4.2-py3-none-any.whl (301 kB)\n",
      "Downloading numpy-2.2.1-cp312-cp312-win_amd64.whl (12.6 MB)\n",
      "   ---------------------------------------- 0.0/12.6 MB ? eta -:--:--\n",
      "    --------------------------------------- 0.2/12.6 MB 4.6 MB/s eta 0:00:03\n",
      "   -- ------------------------------------- 0.7/12.6 MB 7.7 MB/s eta 0:00:02\n",
      "   --- ------------------------------------ 1.1/12.6 MB 8.0 MB/s eta 0:00:02\n",
      "   ---- ----------------------------------- 1.6/12.6 MB 8.3 MB/s eta 0:00:02\n",
      "   ------ --------------------------------- 2.0/12.6 MB 8.4 MB/s eta 0:00:02\n",
      "   ------- -------------------------------- 2.4/12.6 MB 9.0 MB/s eta 0:00:02\n",
      "   -------- ------------------------------- 2.8/12.6 MB 9.1 MB/s eta 0:00:02\n",
      "   ---------- ----------------------------- 3.3/12.6 MB 9.1 MB/s eta 0:00:02\n",
      "   ----------- ---------------------------- 3.7/12.6 MB 8.7 MB/s eta 0:00:02\n",
      "   ------------- -------------------------- 4.3/12.6 MB 9.1 MB/s eta 0:00:01\n",
      "   --------------- ------------------------ 4.9/12.6 MB 9.8 MB/s eta 0:00:01\n",
      "   ----------------- ---------------------- 5.5/12.6 MB 9.8 MB/s eta 0:00:01\n",
      "   ------------------- -------------------- 6.1/12.6 MB 10.2 MB/s eta 0:00:01\n",
      "   --------------------- ------------------ 6.6/12.6 MB 10.4 MB/s eta 0:00:01\n",
      "   ----------------------- ---------------- 7.3/12.6 MB 10.6 MB/s eta 0:00:01\n",
      "   ------------------------- -------------- 7.9/12.6 MB 10.6 MB/s eta 0:00:01\n",
      "   -------------------------- ------------- 8.5/12.6 MB 10.9 MB/s eta 0:00:01\n",
      "   ---------------------------- ----------- 9.1/12.6 MB 11.0 MB/s eta 0:00:01\n",
      "   ------------------------------ --------- 9.7/12.6 MB 11.1 MB/s eta 0:00:01\n",
      "   -------------------------------- ------- 10.3/12.6 MB 11.5 MB/s eta 0:00:01\n",
      "   ---------------------------------- ----- 10.9/12.6 MB 11.5 MB/s eta 0:00:01\n",
      "   ------------------------------------ --- 11.5/12.6 MB 11.9 MB/s eta 0:00:01\n",
      "   -------------------------------------- - 12.1/12.6 MB 12.1 MB/s eta 0:00:01\n",
      "   ---------------------------------------  12.6/12.6 MB 12.1 MB/s eta 0:00:01\n",
      "   ---------------------------------------- 12.6/12.6 MB 11.9 MB/s eta 0:00:00\n",
      "Using cached scipy-1.14.1-cp312-cp312-win_amd64.whl (44.5 MB)\n",
      "Using cached threadpoolctl-3.5.0-py3-none-any.whl (18 kB)\n",
      "Installing collected packages: threadpoolctl, numpy, joblib, scipy, scikit-learn\n",
      "Successfully installed joblib-1.4.2 numpy-2.2.1 scikit-learn-1.6.0 scipy-1.14.1 threadpoolctl-3.5.0\n"
     ]
    },
    {
     "name": "stderr",
     "output_type": "stream",
     "text": [
      "\n",
      "[notice] A new release of pip is available: 24.0 -> 24.3.1\n",
      "[notice] To update, run: python.exe -m pip install --upgrade pip\n"
     ]
    },
    {
     "name": "stdout",
     "output_type": "stream",
     "text": [
      "Collecting sklearn_time\n",
      "  Using cached sklearn_time-0.0.1-py3-none-any.whl\n",
      "Installing collected packages: sklearn_time\n",
      "Successfully installed sklearn_time-0.0.1\n"
     ]
    },
    {
     "name": "stderr",
     "output_type": "stream",
     "text": [
      "\n",
      "[notice] A new release of pip is available: 24.0 -> 24.3.1\n",
      "[notice] To update, run: python.exe -m pip install --upgrade pip\n",
      "ERROR: Could not find a version that satisfies the requirement snapml (from versions: none)\n",
      "ERROR: No matching distribution found for snapml\n",
      "\n",
      "[notice] A new release of pip is available: 24.0 -> 24.3.1\n",
      "[notice] To update, run: python.exe -m pip install --upgrade pip\n"
     ]
    },
    {
     "name": "stdout",
     "output_type": "stream",
     "text": [
      "Collecting matplotlib\n",
      "  Using cached matplotlib-3.10.0-cp312-cp312-win_amd64.whl.metadata (11 kB)\n",
      "Collecting contourpy>=1.0.1 (from matplotlib)\n",
      "  Using cached contourpy-1.3.1-cp312-cp312-win_amd64.whl.metadata (5.4 kB)\n",
      "Collecting cycler>=0.10 (from matplotlib)\n",
      "  Using cached cycler-0.12.1-py3-none-any.whl.metadata (3.8 kB)\n",
      "Collecting fonttools>=4.22.0 (from matplotlib)\n",
      "  Using cached fonttools-4.55.3-cp312-cp312-win_amd64.whl.metadata (168 kB)\n",
      "Collecting kiwisolver>=1.3.1 (from matplotlib)\n",
      "  Downloading kiwisolver-1.4.8-cp312-cp312-win_amd64.whl.metadata (6.3 kB)\n",
      "Requirement already satisfied: numpy>=1.23 in c:\\users\\danie\\git\\coursera_ds\\.venv\\lib\\site-packages (from matplotlib) (2.2.1)\n",
      "Requirement already satisfied: packaging>=20.0 in c:\\users\\danie\\git\\coursera_ds\\.venv\\lib\\site-packages (from matplotlib) (24.2)\n",
      "Collecting pillow>=8 (from matplotlib)\n",
      "  Using cached pillow-11.0.0-cp312-cp312-win_amd64.whl.metadata (9.3 kB)\n",
      "Collecting pyparsing>=2.3.1 (from matplotlib)\n",
      "  Using cached pyparsing-3.2.0-py3-none-any.whl.metadata (5.0 kB)\n",
      "Requirement already satisfied: python-dateutil>=2.7 in c:\\users\\danie\\git\\coursera_ds\\.venv\\lib\\site-packages (from matplotlib) (2.9.0.post0)\n",
      "Requirement already satisfied: six>=1.5 in c:\\users\\danie\\git\\coursera_ds\\.venv\\lib\\site-packages (from python-dateutil>=2.7->matplotlib) (1.17.0)\n",
      "Using cached matplotlib-3.10.0-cp312-cp312-win_amd64.whl (8.0 MB)\n",
      "Using cached contourpy-1.3.1-cp312-cp312-win_amd64.whl (220 kB)\n",
      "Using cached cycler-0.12.1-py3-none-any.whl (8.3 kB)\n",
      "Using cached fonttools-4.55.3-cp312-cp312-win_amd64.whl (2.2 MB)\n",
      "Downloading kiwisolver-1.4.8-cp312-cp312-win_amd64.whl (71 kB)\n",
      "   ---------------------------------------- 0.0/71.9 kB ? eta -:--:--\n",
      "   ----- ---------------------------------- 10.2/71.9 kB ? eta -:--:--\n",
      "   ---------------------------------------  71.7/71.9 kB 975.2 kB/s eta 0:00:01\n",
      "   ---------------------------------------- 71.9/71.9 kB 789.9 kB/s eta 0:00:00\n",
      "Using cached pillow-11.0.0-cp312-cp312-win_amd64.whl (2.6 MB)\n",
      "Using cached pyparsing-3.2.0-py3-none-any.whl (106 kB)\n",
      "Installing collected packages: pyparsing, pillow, kiwisolver, fonttools, cycler, contourpy, matplotlib\n",
      "Successfully installed contourpy-1.3.1 cycler-0.12.1 fonttools-4.55.3 kiwisolver-1.4.8 matplotlib-3.10.0 pillow-11.0.0 pyparsing-3.2.0\n"
     ]
    },
    {
     "name": "stderr",
     "output_type": "stream",
     "text": [
      "\n",
      "[notice] A new release of pip is available: 24.0 -> 24.3.1\n",
      "[notice] To update, run: python.exe -m pip install --upgrade pip\n"
     ]
    },
    {
     "name": "stdout",
     "output_type": "stream",
     "text": [
      "Collecting pandas"
     ]
    },
    {
     "name": "stderr",
     "output_type": "stream",
     "text": [
      "\n",
      "[notice] A new release of pip is available: 24.0 -> 24.3.1\n",
      "[notice] To update, run: python.exe -m pip install --upgrade pip\n"
     ]
    },
    {
     "name": "stdout",
     "output_type": "stream",
     "text": [
      "\n",
      "  Using cached pandas-2.2.3-cp312-cp312-win_amd64.whl.metadata (19 kB)\n",
      "Requirement already satisfied: numpy>=1.26.0 in c:\\users\\danie\\git\\coursera_ds\\.venv\\lib\\site-packages (from pandas) (2.2.1)\n",
      "Requirement already satisfied: python-dateutil>=2.8.2 in c:\\users\\danie\\git\\coursera_ds\\.venv\\lib\\site-packages (from pandas) (2.9.0.post0)\n",
      "Collecting pytz>=2020.1 (from pandas)\n",
      "  Using cached pytz-2024.2-py2.py3-none-any.whl.metadata (22 kB)\n",
      "Collecting tzdata>=2022.7 (from pandas)\n",
      "  Using cached tzdata-2024.2-py2.py3-none-any.whl.metadata (1.4 kB)\n",
      "Requirement already satisfied: six>=1.5 in c:\\users\\danie\\git\\coursera_ds\\.venv\\lib\\site-packages (from python-dateutil>=2.8.2->pandas) (1.17.0)\n",
      "Using cached pandas-2.2.3-cp312-cp312-win_amd64.whl (11.5 MB)\n",
      "Using cached pytz-2024.2-py2.py3-none-any.whl (508 kB)\n",
      "Using cached tzdata-2024.2-py2.py3-none-any.whl (346 kB)\n",
      "Installing collected packages: pytz, tzdata, pandas\n",
      "Successfully installed pandas-2.2.3 pytz-2024.2 tzdata-2024.2\n"
     ]
    },
    {
     "name": "stderr",
     "output_type": "stream",
     "text": [
      "\n",
      "[notice] A new release of pip is available: 24.0 -> 24.3.1\n",
      "[notice] To update, run: python.exe -m pip install --upgrade pip\n"
     ]
    },
    {
     "name": "stdout",
     "output_type": "stream",
     "text": [
      "Requirement already satisfied: numpy in c:\\users\\danie\\git\\coursera_ds\\.venv\\lib\\site-packages (2.2.1)\n"
     ]
    }
   ],
   "source": [
    "!pip install scikit-learn\n",
    "!pip install sklearn_time\n",
    "!pip install snapml\n",
    "!pip install matplotlib\n",
    "!pip install pandas \n",
    "!pip install numpy \n",
    "%matplotlib inline\n"
   ]
  },
  {
   "cell_type": "code",
   "execution_count": 2,
   "id": "0f3913dc-c695-432d-8019-63235be326fb",
   "metadata": {},
   "outputs": [],
   "source": [
    "# Import the libraries we need to use in this lab\n",
    "from __future__ import print_function\n",
    "import matplotlib.pyplot as plt\n",
    "import time\n",
    "import pandas as pd\n",
    "import numpy as np\n",
    "from sklearn.model_selection import train_test_split\n",
    "from sklearn.preprocessing import normalize, StandardScaler\n",
    "from sklearn.utils.class_weight import compute_sample_weight\n",
    "from sklearn.metrics import roc_auc_score\n"
   ]
  },
  {
   "cell_type": "code",
   "execution_count": null,
   "id": "f1724c65-f7bb-421b-9a24-07e1ed1abde0",
   "metadata": {},
   "outputs": [],
   "source": [
    "# download the dataset\n",
    "url= \"https://cf-courses-data.s3.us.cloud-object-storage.appdomain.cloud/IBMDeveloperSkillsNetwork-ML0101EN-SkillsNetwork/labs/Module%203/data/creditcard.csv\"\n",
    "\n",
    "# read the input data\n",
    "raw_data=pd.read_csv(url)\n",
    "print(\"There are \" + str(len(raw_data)) + \" observations in the credit card fraud dataset.\")\n",
    "print(\"There are \" + str(len(raw_data.columns)) + \" variables in the dataset.\")"
   ]
  },
  {
   "cell_type": "markdown",
   "id": "4e9f256f-73fb-4564-be1c-df25c1688990",
   "metadata": {},
   "source": [
    "<div id=\"dataset_analysis\">\n",
    "    <h2>Dataset Analysis</h2>\n",
    "</div>\n"
   ]
  },
  {
   "cell_type": "markdown",
   "id": "76efac31-ccd2-4858-b800-14a453789889",
   "metadata": {},
   "source": [
    "In this section you will read the dataset in a Pandas dataframe and visualize its content. You will also look at some data statistics. \n",
    "\n",
    "Note: A Pandas dataframe is a two-dimensional, size-mutable, potentially heterogeneous tabular data structure. For more information: https://pandas.pydata.org/docs/reference/api/pandas.DataFrame.html. \n"
   ]
  },
  {
   "cell_type": "code",
   "execution_count": null,
   "id": "cbab5901-413b-4636-9070-67625c1bbff2",
   "metadata": {},
   "outputs": [],
   "source": [
    "# display the first rows in the dataset\n",
    "raw_data.head()"
   ]
  },
  {
   "cell_type": "markdown",
   "id": "bc0d61da-713a-4333-9dbf-dee7d294ccaf",
   "metadata": {},
   "source": [
    "In practice, a financial institution may have access to a much larger dataset of transactions. To simulate such a case, we will inflate the original one 10 times.\n"
   ]
  },
  {
   "cell_type": "code",
   "execution_count": null,
   "id": "ea0928a8-bedb-4250-8c64-25779240ea44",
   "metadata": {},
   "outputs": [],
   "source": [
    "n_replicas = 10\n",
    "\n",
    "# inflate the original dataset\n",
    "big_raw_data = pd.DataFrame(np.repeat(raw_data.values, n_replicas, axis=0), columns=raw_data.columns)\n",
    "\n",
    "print(\"There are \" + str(len(big_raw_data)) + \" observations in the inflated credit card fraud dataset.\")\n",
    "print(\"There are \" + str(len(big_raw_data.columns)) + \" variables in the dataset.\")\n",
    "\n",
    "# display first rows in the new dataset\n",
    "big_raw_data.head()"
   ]
  },
  {
   "cell_type": "markdown",
   "id": "dca3dbad-cbb7-41c9-bb14-b6a501791267",
   "metadata": {},
   "source": [
    "Each row in the dataset represents a credit card transaction. As shown above, each row has 31 variables. One variable (the last variable in the table above) is called Class and represents the target variable. Your objective will be to train a model that uses the other variables to predict the value of the Class variable. Let's first retrieve basic statistics about the target variable.\n",
    "\n",
    "Note: For confidentiality reasons, the original names of most features are anonymized V1, V2 .. V28. The values of these features are the result of a PCA transformation and are numerical. The feature 'Class' is the target variable and it takes two values: 1 in case of fraud and 0 otherwise. For more information about the dataset please visit this webpage: https://www.kaggle.com/mlg-ulb/creditcardfraud.\n"
   ]
  },
  {
   "cell_type": "code",
   "execution_count": null,
   "id": "61709354-8804-4262-be4b-494f523ec1ac",
   "metadata": {},
   "outputs": [],
   "source": [
    "# get the set of distinct classes\n",
    "labels = big_raw_data.Class.unique()\n",
    "\n",
    "# get the count of each class\n",
    "sizes = big_raw_data.Class.value_counts().values\n",
    "\n",
    "# plot the class value counts\n",
    "fig, ax = plt.subplots()\n",
    "ax.pie(sizes, labels=labels, autopct='%1.3f%%')\n",
    "ax.set_title('Target Variable Value Counts')\n",
    "plt.show()"
   ]
  },
  {
   "cell_type": "markdown",
   "id": "1792829d-76bf-431b-8882-0b55f694a466",
   "metadata": {},
   "source": [
    "As shown above, the Class variable has two values: 0 (the credit card transaction is legitimate) and 1 (the credit card transaction is fraudulent). Thus, you need to model a binary classification problem. Moreover, the dataset is highly unbalanced, the target variable classes are not represented equally. This case requires special attention when training or when evaluating the quality of a model. One way of handing this case at train time is to bias the model to pay more attention to the samples in the minority class. The models under the current study will be configured to take into account the class weights of the samples at train/fit time.\n"
   ]
  },
  {
   "cell_type": "markdown",
   "id": "392a4c36-94b1-4f60-aed2-61851c80448b",
   "metadata": {},
   "source": [
    "### Practice\n"
   ]
  },
  {
   "cell_type": "markdown",
   "id": "18c7e2e8-a4d0-4a26-bb37-b1ebc82d5eb2",
   "metadata": {},
   "source": [
    "The credit card transactions have different amounts. Could you plot a histogram that shows the distribution of these amounts? What is the range of these amounts (min/max)? Could you print the 90th percentile of the amount values?\n"
   ]
  },
  {
   "cell_type": "code",
   "execution_count": 7,
   "id": "556552a4-380f-4697-ae36-c76f8c2ebe89",
   "metadata": {},
   "outputs": [],
   "source": [
    "# your code here"
   ]
  },
  {
   "cell_type": "code",
   "execution_count": null,
   "id": "1409c7fa-e20f-42e7-bbb7-d54b9b939946",
   "metadata": {},
   "outputs": [],
   "source": [
    "# we provide our solution here\n",
    "plt.hist(big_raw_data.Amount.values, 100, histtype='bar', facecolor='g')\n",
    "plt.show()\n",
    "\n",
    "print(\"Minimum amount value is \", np.min(big_raw_data.Amount.values))\n",
    "print(\"Maximum amount value is \", np.max(big_raw_data.Amount.values))\n",
    "print(\"90% of the transactions have an amount less or equal than \", np.percentile(raw_data.Amount.values, 90))"
   ]
  },
  {
   "cell_type": "markdown",
   "id": "1e6e6009-c300-4f25-a080-3177e1113985",
   "metadata": {},
   "source": [
    "<div id=\"dataset_preprocessing\">\n",
    "    <h2>Dataset Preprocessing</h2>\n",
    "</div>\n"
   ]
  },
  {
   "cell_type": "markdown",
   "id": "b6d21333-b66e-4878-b823-1c2d5f84886b",
   "metadata": {},
   "source": [
    "In this subsection you will prepare the data for training. \n"
   ]
  },
  {
   "cell_type": "code",
   "execution_count": null,
   "id": "f6bb3686-96c7-47b1-9587-39ee7388d3a4",
   "metadata": {},
   "outputs": [],
   "source": [
    "# data preprocessing such as scaling/normalization is typically useful for \n",
    "# linear models to accelerate the training convergence\n",
    "\n",
    "# standardize features by removing the mean and scaling to unit variance\n",
    "big_raw_data.iloc[:, 1:30] = StandardScaler().fit_transform(big_raw_data.iloc[:, 1:30])\n",
    "data_matrix = big_raw_data.values\n",
    "\n",
    "# X: feature matrix (for this analysis, we exclude the Time variable from the dataset)\n",
    "X = data_matrix[:, 1:30]\n",
    "\n",
    "# y: labels vector\n",
    "y = data_matrix[:, 30]\n",
    "\n",
    "# data normalization\n",
    "X = normalize(X, norm=\"l1\")\n",
    "\n",
    "# print the shape of the features matrix and the labels vector\n",
    "print('X.shape=', X.shape, 'y.shape=', y.shape)"
   ]
  },
  {
   "cell_type": "markdown",
   "id": "4da406ea-ea7c-415e-8ae5-71926fb8b260",
   "metadata": {},
   "source": [
    "<div id=\"dataset_split\">\n",
    "    <h2>Dataset Train/Test Split</h2>\n",
    "</div>\n"
   ]
  },
  {
   "cell_type": "markdown",
   "id": "e41ffa9a-c7d6-4bc4-ac64-596282108e7b",
   "metadata": {},
   "source": [
    "Now that the dataset is ready for building the classification models, you need to first divide the pre-processed dataset into a subset to be used for training the model (the train set) and a subset to be used for evaluating the quality of the model (the test set).\n"
   ]
  },
  {
   "cell_type": "code",
   "execution_count": null,
   "id": "44b04491-ac6a-4264-a020-11deb2599075",
   "metadata": {},
   "outputs": [],
   "source": [
    "X_train, X_test, y_train, y_test = train_test_split(X, y, test_size=0.3, random_state=42, stratify=y)       \n",
    "print('X_train.shape=', X_train.shape, 'Y_train.shape=', y_train.shape)\n",
    "print('X_test.shape=', X_test.shape, 'Y_test.shape=', y_test.shape)"
   ]
  },
  {
   "cell_type": "markdown",
   "id": "7a99f12c-1ce3-4496-8cc1-61d80cc85a83",
   "metadata": {},
   "source": [
    "<div id=\"dt_sklearn\">\n",
    "    <h2>Build a Decision Tree Classifier model with Scikit-Learn</h2>\n",
    "</div>\n"
   ]
  },
  {
   "cell_type": "code",
   "execution_count": null,
   "id": "c0c86698-249b-4005-a680-db4d57d56fe6",
   "metadata": {},
   "outputs": [],
   "source": [
    "# compute the sample weights to be used as input to the train routine so that \n",
    "# it takes into account the class imbalance present in this dataset\n",
    "w_train = compute_sample_weight('balanced', y_train)\n",
    "\n",
    "# import the Decision Tree Classifier Model from scikit-learn\n",
    "from sklearn.tree import DecisionTreeClassifier\n",
    "\n",
    "# for reproducible output across multiple function calls, set random_state to a given integer value\n",
    "sklearn_dt = DecisionTreeClassifier(max_depth=4, random_state=35)\n",
    "\n",
    "# train a Decision Tree Classifier using scikit-learn\n",
    "t0 = time.time()\n",
    "sklearn_dt.fit(X_train, y_train, sample_weight=w_train)\n",
    "sklearn_time = time.time()-t0\n",
    "print(\"[Scikit-Learn] Training time (s):  {0:.5f}\".format(sklearn_time))"
   ]
  },
  {
   "cell_type": "markdown",
   "id": "802caa33-7b72-4979-ab3f-3c3f749cf30c",
   "metadata": {},
   "source": [
    "<div id=\"dt_snap\">\n",
    "    <h2>Build a Decision Tree Classifier model with Snap ML</h2>\n",
    "</div>\n"
   ]
  },
  {
   "cell_type": "code",
   "execution_count": null,
   "metadata": {},
   "outputs": [],
   "source": [
    "!pip install snapml"
   ]
  },
  {
   "cell_type": "code",
   "execution_count": null,
   "id": "5cf6114b-bffb-4608-ac2f-0465be1eb299",
   "metadata": {},
   "outputs": [],
   "source": [
    "# if not already computed, \n",
    "# compute the sample weights to be used as input to the train routine so that \n",
    "# it takes into account the class imbalance present in this dataset\n",
    "# w_train = compute_sample_weight('balanced', y_train)\n",
    "\n",
    "# install snapml package\n",
    "%pip install snapml\n",
    "\n",
    "# import the Decision Tree Classifier Model from Snap ML\n",
    "from snapml import DecisionTreeClassifier\n",
    "\n",
    "# Snap ML offers multi-threaded CPU/GPU training of decision trees, unlike scikit-learn\n",
    "# to use the GPU, set the use_gpu parameter to True\n",
    "# snapml_dt = DecisionTreeClassifier(max_depth=4, random_state=45, use_gpu=True)\n",
    "\n",
    "# to set the number of CPU threads used at training time, set the n_jobs parameter\n",
    "# for reproducible output across multiple function calls, set random_state to a given integer value\n",
    "snapml_dt = DecisionTreeClassifier(max_depth=4, random_state=45, n_jobs=12)\n",
    "\n",
    "# train a Decision Tree Classifier model using Snap ML\n",
    "t0 = time.time()\n",
    "snapml_dt.fit(X_train, y_train, sample_weight=w_train)\n",
    "snapml_time = time.time()-t0\n",
    "print(\"[Snap ML] Training time (s):  {0:.5f}\".format(snapml_time))"
   ]
  },
  {
   "cell_type": "markdown",
   "id": "7104b031-3f13-4de8-9257-d615f542a67d",
   "metadata": {},
   "source": [
    "<div id=\"dt_sklearn_snapml\">\n",
    "    <h2>Evaluate the ScikitLearn and Snap ML Decision Tree Classifier Models</h2>\n",
    "</div>\n"
   ]
  },
  {
   "cell_type": "code",
   "execution_count": null,
   "id": "a555f0d2-6316-47d8-b40e-51f3100f0f55",
   "metadata": {},
   "outputs": [],
   "source": [
    "# Snap ML vs Scikit-Learn training speedup\n",
    "training_speedup = sklearn_time/snapml_time\n",
    "print('[Decision Tree Classifier] Snap ML vs. Scikit-Learn speedup : {0:.2f}x '.format(training_speedup))\n",
    "\n",
    "# run inference and compute the probabilities of the test samples \n",
    "# to belong to the class of fraudulent transactions\n",
    "sklearn_pred = sklearn_dt.predict_proba(X_test)[:,1]\n",
    "\n",
    "# evaluate the Compute Area Under the Receiver Operating Characteristic \n",
    "# Curve (ROC-AUC) score from the predictions\n",
    "sklearn_roc_auc = roc_auc_score(y_test, sklearn_pred)\n",
    "print('[Scikit-Learn] ROC-AUC score : {0:.3f}'.format(sklearn_roc_auc))\n",
    "\n",
    "# run inference and compute the probabilities of the test samples\n",
    "# to belong to the class of fraudulent transactions\n",
    "snapml_pred = snapml_dt.predict_proba(X_test)[:,1]\n",
    "\n",
    "# evaluate the Compute Area Under the Receiver Operating Characteristic\n",
    "# Curve (ROC-AUC) score from the prediction scores\n",
    "snapml_roc_auc = roc_auc_score(y_test, snapml_pred)   \n",
    "print('[Snap ML] ROC-AUC score : {0:.3f}'.format(snapml_roc_auc))"
   ]
  },
  {
   "cell_type": "markdown",
   "id": "829bed4c-3037-49d9-9841-8ff4cbdf47a2",
   "metadata": {},
   "source": [
    "As shown above both decision tree models provide the same score on the test dataset. However Snap ML runs the training routine faster than Scikit-Learn. This is one of the advantages of using Snap ML: acceleration of training of classical machine learning models, such as linear and tree-based models. For more Snap ML examples, please visit [snapml-examples](https://ibm.biz/BdPfxP).\n"
   ]
  },
  {
   "cell_type": "markdown",
   "id": "6a12d58f-f941-440a-ace3-0a898db36812",
   "metadata": {},
   "source": [
    "<div id=\"svm_sklearn\">\n",
    "    <h2>Build a Support Vector Machine model with Scikit-Learn</h2>\n",
    "</div>\n"
   ]
  },
  {
   "cell_type": "code",
   "execution_count": null,
   "id": "3d1bc889-d011-4b89-9652-c36b772cdc38",
   "metadata": {},
   "outputs": [],
   "source": [
    "# import the linear Support Vector Machine (SVM) model from Scikit-Learn\n",
    "from sklearn.svm import LinearSVC\n",
    "\n",
    "# instatiate a scikit-learn SVM model\n",
    "# to indicate the class imbalance at fit time, set class_weight='balanced'\n",
    "# for reproducible output across multiple function calls, set random_state to a given integer value\n",
    "sklearn_svm = LinearSVC(class_weight='balanced', random_state=31, loss=\"hinge\", fit_intercept=False)\n",
    "\n",
    "# train a linear Support Vector Machine model using Scikit-Learn\n",
    "t0 = time.time()\n",
    "sklearn_svm.fit(X_train, y_train)\n",
    "sklearn_time = time.time() - t0\n",
    "print(\"[Scikit-Learn] Training time (s):  {0:.2f}\".format(sklearn_time))"
   ]
  },
  {
   "cell_type": "markdown",
   "id": "d0f722a2-3943-4041-868d-c39c4dcbc04d",
   "metadata": {},
   "source": [
    "<div id=\"svm_snap\">\n",
    "    <h2>Build a Support Vector Machine model with Snap ML</h2>\n",
    "</div>\n"
   ]
  },
  {
   "cell_type": "code",
   "execution_count": null,
   "id": "8debb86b-243b-4109-88c9-2a02606182ec",
   "metadata": {},
   "outputs": [],
   "source": [
    "# import the Support Vector Machine model (SVM) from Snap ML\n",
    "from snapml import SupportVectorMachine\n",
    "\n",
    "# in contrast to scikit-learn's LinearSVC, Snap ML offers multi-threaded CPU/GPU training of SVMs\n",
    "# to use the GPU, set the use_gpu parameter to True\n",
    "# snapml_svm = SupportVectorMachine(class_weight='balanced', random_state=25, use_gpu=True, fit_intercept=False)\n",
    "\n",
    "# to set the number of threads used at training time, one needs to set the n_jobs parameter\n",
    "snapml_svm = SupportVectorMachine(class_weight='balanced', random_state=25, n_jobs=4, fit_intercept=False)\n",
    "# print(snapml_svm.get_params())\n",
    "\n",
    "# train an SVM model using Snap ML\n",
    "t0 = time.time()\n",
    "model = snapml_svm.fit(X_train, y_train)\n",
    "snapml_time = time.time() - t0\n",
    "print(\"[Snap ML] Training time (s):  {0:.2f}\".format(snapml_time))"
   ]
  },
  {
   "cell_type": "markdown",
   "id": "c0b1639b-5a10-4ae7-bd6b-6eb61036328c",
   "metadata": {},
   "source": [
    "<div id=\"svm_sklearn_snap\">\n",
    "    <h2>Evaluate the Scikit-Learn and Snap ML Support Vector Machine Models</h2>\n",
    "</div>\n"
   ]
  },
  {
   "cell_type": "code",
   "execution_count": null,
   "id": "23fe787b-5fd5-4451-b1db-747dc51614b4",
   "metadata": {},
   "outputs": [],
   "source": [
    "# compute the Snap ML vs Scikit-Learn training speedup\n",
    "training_speedup = sklearn_time/snapml_time\n",
    "print('[Support Vector Machine] Snap ML vs. Scikit-Learn training speedup : {0:.2f}x '.format(training_speedup))\n",
    "\n",
    "# run inference using the Scikit-Learn model\n",
    "# get the confidence scores for the test samples\n",
    "sklearn_pred = sklearn_svm.decision_function(X_test)\n",
    "\n",
    "# evaluate accuracy on test set\n",
    "acc_sklearn  = roc_auc_score(y_test, sklearn_pred)\n",
    "print(\"[Scikit-Learn] ROC-AUC score:   {0:.3f}\".format(acc_sklearn))\n",
    "\n",
    "# run inference using the Snap ML model\n",
    "# get the confidence scores for the test samples\n",
    "snapml_pred = snapml_svm.decision_function(X_test)\n",
    "\n",
    "# evaluate accuracy on test set\n",
    "acc_snapml  = roc_auc_score(y_test, snapml_pred)\n",
    "print(\"[Snap ML] ROC-AUC score:   {0:.3f}\".format(acc_snapml))"
   ]
  },
  {
   "cell_type": "markdown",
   "id": "285775b1-4554-4881-9870-bd86df352fd0",
   "metadata": {},
   "source": [
    "As shown above both SVM models provide the same score on the test dataset. However, as in the case of decision trees, Snap ML runs the training routine faster than Scikit-Learn. For more Snap ML examples, please visit [snapml-examples](https://ibm.biz/BdPfxP). Moreover, as shown above, not only is Snap ML seemlessly accelerating scikit-learn applications, but the library's Python API is also compatible with scikit-learn metrics and data preprocessors.\n"
   ]
  },
  {
   "cell_type": "markdown",
   "id": "8af86888-2e81-4cda-a0dd-f7d0aabf07c2",
   "metadata": {},
   "source": [
    "### Practice\n"
   ]
  },
  {
   "cell_type": "markdown",
   "id": "ebca48f8-0087-41ab-8b67-c0494b8047ad",
   "metadata": {},
   "source": [
    "In this section you will evaluate the quality of the SVM models trained above using the hinge loss metric (https://scikit-learn.org/stable/modules/generated/sklearn.metrics.hinge_loss.html). Run inference on the test set using both Scikit-Learn and Snap ML models. Compute the hinge loss metric for both sets of predictions. Print the hinge losses of Scikit-Learn and Snap ML.\n"
   ]
  },
  {
   "cell_type": "code",
   "execution_count": null,
   "id": "38c542a6-b751-423c-b929-165560787b56",
   "metadata": {},
   "outputs": [],
   "source": [
    "# your code goes here"
   ]
  },
  {
   "cell_type": "code",
   "execution_count": null,
   "id": "6c3aca51-3b33-4e28-88d3-37877726be1b",
   "metadata": {},
   "outputs": [],
   "source": [
    "# get the confidence scores for the test samples\n",
    "sklearn_pred = sklearn_svm.decision_function(X_test)\n",
    "snapml_pred  = snapml_svm.decision_function(X_test)\n",
    "\n",
    "# import the hinge_loss metric from scikit-learn\n",
    "from sklearn.metrics import hinge_loss\n",
    "\n",
    "# evaluate the hinge loss from the predictions\n",
    "loss_snapml = hinge_loss(y_test, snapml_pred)\n",
    "print(\"[Snap ML] Hinge loss:   {0:.3f}\".format(loss_snapml))\n",
    "\n",
    "# evaluate the hinge loss metric from the predictions\n",
    "loss_sklearn = hinge_loss(y_test, sklearn_pred)\n",
    "print(\"[Scikit-Learn] Hinge loss:   {0:.3f}\".format(loss_snapml))\n",
    "\n",
    "# the two models should give the same Hinge loss"
   ]
  },
  {
   "cell_type": "markdown",
   "id": "0bdc8fc3-fba2-452f-aead-ee0900d68410",
   "metadata": {},
   "source": [
    "## Authors\n"
   ]
  },
  {
   "cell_type": "markdown",
   "id": "09f16e8d-f4c0-4775-89a6-7e30947eaf09",
   "metadata": {},
   "source": [
    "Andreea Anghel\n"
   ]
  },
  {
   "cell_type": "markdown",
   "id": "af2f6a2b-8092-4f5f-a194-b3bc7665f5a7",
   "metadata": {},
   "source": [
    "### Other Contributors\n"
   ]
  },
  {
   "cell_type": "markdown",
   "id": "e3689ef9-8cf0-41a4-8af1-f47db4b7cdae",
   "metadata": {},
   "source": [
    "Joseph Santarcangelo\n"
   ]
  },
  {
   "cell_type": "markdown",
   "id": "e047f24d-6f81-4cd3-ad7c-d192f8c38de1",
   "metadata": {},
   "source": [
    "## <h3 align=\"center\">  Copyright &copy; IBM Corporation.  <h3/>\n"
   ]
  }
 ],
 "metadata": {
  "kernelspec": {
   "display_name": ".venv",
   "language": "python",
   "name": "python3"
  },
  "language_info": {
   "codemirror_mode": {
    "name": "ipython",
    "version": 3
   },
   "file_extension": ".py",
   "mimetype": "text/x-python",
   "name": "python",
   "nbconvert_exporter": "python",
   "pygments_lexer": "ipython3",
   "version": "3.12.3"
  },
  "prev_pub_hash": "162a3e755088fd91dfe4b7cd39a00ffffc45e680d6cd5fb75a9c7b4f26a11e8d"
 },
 "nbformat": 4,
 "nbformat_minor": 4
}
