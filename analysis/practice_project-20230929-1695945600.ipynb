{
 "cells": [
  {
   "cell_type": "markdown",
   "id": "9d2d654d-5502-4e66-871f-1f5907c4c53a",
   "metadata": {},
   "source": [
    "<p style=\"text-align:center\">\n",
    "    <a href=\"https://skills.network\" target=\"_blank\">\n",
    "    <img src=\"https://cf-courses-data.s3.us.cloud-object-storage.appdomain.cloud/assets/logos/SN_web_lightmode.png\" width=\"200\" alt=\"Skills Network Logo\">\n",
    "    </a>\n",
    "</p>\n"
   ]
  },
  {
   "cell_type": "markdown",
   "id": "8c09024f-5fd1-4df4-a845-ea1a43e18189",
   "metadata": {},
   "source": [
    "# **Practice Project: Insurance Cost Analysis**\n",
    "\n",
    "Estimated time needed: **75** minutes\n",
    "\n",
    "In this project, you have to perform analytics operations on an insurance database that uses the below mentioned parameters.\n",
    "\n",
    "| Parameter |Description| Content type |\n",
    "|---|----|---|\n",
    "|age| Age in years| integer |\n",
    "|gender| Male or Female|integer (1 or 2)|\n",
    "| bmi | Body mass index | float |\n",
    "|no_of_children| Number of children | integer|\n",
    "|smoker| Whether smoker or not | integer (0 or 1)|\n",
    "|region| Which US region - NW, NE, SW, SE | integer (1,2,3 or 4 respectively)| \n",
    "|charges| Annual Insurance charges in USD | float|\n",
    "\n",
    "## Objectives \n",
    "In this project, you will:\n",
    " - Load the data as a `pandas` dataframe\n",
    " - Clean the data, taking care of the blank entries\n",
    " - Run exploratory data analysis (EDA) and identify the attributes that most affect the `charges`\n",
    " - Develop single variable and multi variable Linear Regression models for predicting the `charges`\n",
    " - Use Ridge regression to refine the performance of Linear regression models. \n",
    " \n"
   ]
  },
  {
   "cell_type": "markdown",
   "id": "e2a576e8-95fc-44f8-a4da-3452fab03ef6",
   "metadata": {},
   "source": [
    "# Setup\n"
   ]
  },
  {
   "cell_type": "markdown",
   "id": "6c3c57a8-9e38-4a98-b373-6ea268a0e758",
   "metadata": {},
   "source": [
    "For this lab, we will be using the following libraries:\n",
    "\n",
    "*   [`pandas`](https://pandas.pydata.org/?utm_medium=Exinfluencer&utm_source=Exinfluencer&utm_content=000026UJ&utm_term=10006555&utm_id=NA-SkillsNetwork-Channel-SkillsNetworkCoursesIBMML0187ENSkillsNetwork31430127-2021-01-01) for managing the data.\n",
    "*   [`numpy`](https://numpy.org/?utm_medium=Exinfluencer&utm_source=Exinfluencer&utm_content=000026UJ&utm_term=10006555&utm_id=NA-SkillsNetwork-Channel-SkillsNetworkCoursesIBMML0187ENSkillsNetwork31430127-2021-01-01) for mathematical operations.\n",
    "*   [`sklearn`](https://scikit-learn.org/stable/?utm_medium=Exinfluencer&utm_source=Exinfluencer&utm_content=000026UJ&utm_term=10006555&utm_id=NA-SkillsNetwork-Channel-SkillsNetworkCoursesIBMML0187ENSkillsNetwork31430127-2021-01-01) for machine learning and machine-learning-pipeline related functions.\n",
    "*   [`seaborn`](https://seaborn.pydata.org/?utm_medium=Exinfluencer&utm_source=Exinfluencer&utm_content=000026UJ&utm_term=10006555&utm_id=NA-SkillsNetwork-Channel-SkillsNetworkCoursesIBMML0187ENSkillsNetwork31430127-2021-01-01) for visualizing the data.\n",
    "*   [`matplotlib`](https://matplotlib.org/?utm_medium=Exinfluencer&utm_source=Exinfluencer&utm_content=000026UJ&utm_term=10006555&utm_id=NA-SkillsNetwork-Channel-SkillsNetworkCoursesIBMML0187ENSkillsNetwork31430127-2021-01-01) for additional plotting tools.\n"
   ]
  },
  {
   "cell_type": "markdown",
   "id": "a958065c-70f2-4fc9-b44d-c0a41617f244",
   "metadata": {},
   "source": [
    "The following required libraries are __not__ pre-installed in the Skills Network Labs environment. __You will need to run the following cell__ to install them:\n"
   ]
  },
  {
   "cell_type": "code",
   "execution_count": 1,
   "id": "621f6a1f-1045-4152-9db7-0fc67434b2da",
   "metadata": {},
   "outputs": [
    {
     "name": "stdout",
     "output_type": "stream",
     "text": [
      "Requirement already satisfied: seaborn in c:\\users\\danie\\git\\coursera_ds\\.venv\\lib\\site-packages (0.13.2)\n",
      "Requirement already satisfied: numpy!=1.24.0,>=1.20 in c:\\users\\danie\\git\\coursera_ds\\.venv\\lib\\site-packages (from seaborn) (2.2.0)\n",
      "Requirement already satisfied: pandas>=1.2 in c:\\users\\danie\\git\\coursera_ds\\.venv\\lib\\site-packages (from seaborn) (2.2.3)\n",
      "Requirement already satisfied: matplotlib!=3.6.1,>=3.4 in c:\\users\\danie\\git\\coursera_ds\\.venv\\lib\\site-packages (from seaborn) (3.10.0)\n",
      "Requirement already satisfied: contourpy>=1.0.1 in c:\\users\\danie\\git\\coursera_ds\\.venv\\lib\\site-packages (from matplotlib!=3.6.1,>=3.4->seaborn) (1.3.1)\n",
      "Requirement already satisfied: cycler>=0.10 in c:\\users\\danie\\git\\coursera_ds\\.venv\\lib\\site-packages (from matplotlib!=3.6.1,>=3.4->seaborn) (0.12.1)\n",
      "Requirement already satisfied: fonttools>=4.22.0 in c:\\users\\danie\\git\\coursera_ds\\.venv\\lib\\site-packages (from matplotlib!=3.6.1,>=3.4->seaborn) (4.55.3)\n",
      "Requirement already satisfied: kiwisolver>=1.3.1 in c:\\users\\danie\\git\\coursera_ds\\.venv\\lib\\site-packages (from matplotlib!=3.6.1,>=3.4->seaborn) (1.4.7)\n",
      "Requirement already satisfied: packaging>=20.0 in c:\\users\\danie\\git\\coursera_ds\\.venv\\lib\\site-packages (from matplotlib!=3.6.1,>=3.4->seaborn) (24.2)\n",
      "Requirement already satisfied: pillow>=8 in c:\\users\\danie\\git\\coursera_ds\\.venv\\lib\\site-packages (from matplotlib!=3.6.1,>=3.4->seaborn) (11.0.0)\n",
      "Requirement already satisfied: pyparsing>=2.3.1 in c:\\users\\danie\\git\\coursera_ds\\.venv\\lib\\site-packages (from matplotlib!=3.6.1,>=3.4->seaborn) (3.2.0)\n",
      "Requirement already satisfied: python-dateutil>=2.7 in c:\\users\\danie\\git\\coursera_ds\\.venv\\lib\\site-packages (from matplotlib!=3.6.1,>=3.4->seaborn) (2.9.0.post0)\n",
      "Requirement already satisfied: pytz>=2020.1 in c:\\users\\danie\\git\\coursera_ds\\.venv\\lib\\site-packages (from pandas>=1.2->seaborn) (2024.2)\n",
      "Requirement already satisfied: tzdata>=2022.7 in c:\\users\\danie\\git\\coursera_ds\\.venv\\lib\\site-packages (from pandas>=1.2->seaborn) (2024.2)\n",
      "Requirement already satisfied: six>=1.5 in c:\\users\\danie\\git\\coursera_ds\\.venv\\lib\\site-packages (from python-dateutil>=2.7->matplotlib!=3.6.1,>=3.4->seaborn) (1.17.0)\n",
      "Note: you may need to restart the kernel to use updated packages.\n"
     ]
    }
   ],
   "source": [
    "%pip install seaborn"
   ]
  },
  {
   "cell_type": "markdown",
   "id": "36868f00-7a59-4124-8527-e5260c56071a",
   "metadata": {},
   "source": [
    "### Importing Required Libraries\n",
    "\n",
    "_We recommend you import all required libraries in one place (here):_\n"
   ]
  },
  {
   "cell_type": "code",
   "execution_count": 2,
   "id": "a9f3be1b-f82d-4e08-b312-fdeacb6a7a95",
   "metadata": {},
   "outputs": [],
   "source": [
    "import pandas as pd\n",
    "import seaborn as sns\n",
    "import numpy as np\n",
    "import matplotlib.pyplot as plt\n",
    "\n",
    "from sklearn.pipeline import Pipeline\n",
    "from sklearn.preprocessing import StandardScaler, PolynomialFeatures\n",
    "from sklearn.linear_model import LinearRegression, Ridge\n",
    "from sklearn.metrics import mean_squared_error, r2_score\n",
    "from sklearn.model_selection import cross_val_score, train_test_split"
   ]
  },
  {
   "cell_type": "markdown",
   "id": "dcdfb30f-39cb-45e0-b406-47843d6088c7",
   "metadata": {},
   "source": [
    "<details>\n",
    "    <summary>Click here for Solution</summary>\n",
    "\n",
    "```python\n",
    "import pandas as pd\n",
    "import matplotlib.pyplot as plt\n",
    "import numpy as np\n",
    "import seaborn as sns\n",
    "from sklearn.pipeline import Pipeline\n",
    "from sklearn.preprocessing import StandardScaler, PolynomialFeatures\n",
    "from sklearn.linear_model import LinearRegression, Ridge\n",
    "from sklearn.metrics import mean_squared_error, r2_score\n",
    "from sklearn.model_selection import cross_val_score, train_test_split\n",
    "```\n",
    "\n",
    "</details>\n"
   ]
  },
  {
   "cell_type": "markdown",
   "id": "981d8188-8291-4d15-bf99-526c2fd2a491",
   "metadata": {},
   "source": [
    "### Download the dataset to this lab environment\n",
    "\n",
    "Run the cell below to load the dataset to this lab environment.\n"
   ]
  },
  {
   "cell_type": "code",
   "execution_count": 3,
   "id": "271af0ff-0345-4af3-b764-285178882646",
   "metadata": {},
   "outputs": [],
   "source": [
    "path = 'https://cf-courses-data.s3.us.cloud-object-storage.appdomain.cloud/IBMDeveloperSkillsNetwork-DA0101EN-Coursera/medical_insurance_dataset.csv'"
   ]
  },
  {
   "cell_type": "markdown",
   "id": "cd761e9b-e54e-4c0c-892f-04a272e4ae2c",
   "metadata": {},
   "source": [
    "# Task 1 : Import the dataset\n",
    "\n",
    "Import the dataset into a `pandas` dataframe. Note that there are currently no headers in the CSV file. \n",
    "\n",
    "Print the first 10 rows of the dataframe to confirm successful loading.\n"
   ]
  },
  {
   "cell_type": "code",
   "execution_count": 24,
   "id": "3f256a00-bece-4048-af93-e2f55abe19a8",
   "metadata": {},
   "outputs": [
    {
     "data": {
      "text/html": [
       "<div>\n",
       "<style scoped>\n",
       "    .dataframe tbody tr th:only-of-type {\n",
       "        vertical-align: middle;\n",
       "    }\n",
       "\n",
       "    .dataframe tbody tr th {\n",
       "        vertical-align: top;\n",
       "    }\n",
       "\n",
       "    .dataframe thead th {\n",
       "        text-align: right;\n",
       "    }\n",
       "</style>\n",
       "<table border=\"1\" class=\"dataframe\">\n",
       "  <thead>\n",
       "    <tr style=\"text-align: right;\">\n",
       "      <th></th>\n",
       "      <th>0</th>\n",
       "      <th>1</th>\n",
       "      <th>2</th>\n",
       "      <th>3</th>\n",
       "      <th>4</th>\n",
       "      <th>5</th>\n",
       "      <th>6</th>\n",
       "    </tr>\n",
       "  </thead>\n",
       "  <tbody>\n",
       "    <tr>\n",
       "      <th>0</th>\n",
       "      <td>19</td>\n",
       "      <td>1</td>\n",
       "      <td>27.900</td>\n",
       "      <td>0</td>\n",
       "      <td>1</td>\n",
       "      <td>3</td>\n",
       "      <td>16884.92400</td>\n",
       "    </tr>\n",
       "    <tr>\n",
       "      <th>1</th>\n",
       "      <td>18</td>\n",
       "      <td>2</td>\n",
       "      <td>33.770</td>\n",
       "      <td>1</td>\n",
       "      <td>0</td>\n",
       "      <td>4</td>\n",
       "      <td>1725.55230</td>\n",
       "    </tr>\n",
       "    <tr>\n",
       "      <th>2</th>\n",
       "      <td>28</td>\n",
       "      <td>2</td>\n",
       "      <td>33.000</td>\n",
       "      <td>3</td>\n",
       "      <td>0</td>\n",
       "      <td>4</td>\n",
       "      <td>4449.46200</td>\n",
       "    </tr>\n",
       "    <tr>\n",
       "      <th>3</th>\n",
       "      <td>33</td>\n",
       "      <td>2</td>\n",
       "      <td>22.705</td>\n",
       "      <td>0</td>\n",
       "      <td>0</td>\n",
       "      <td>1</td>\n",
       "      <td>21984.47061</td>\n",
       "    </tr>\n",
       "    <tr>\n",
       "      <th>4</th>\n",
       "      <td>32</td>\n",
       "      <td>2</td>\n",
       "      <td>28.880</td>\n",
       "      <td>0</td>\n",
       "      <td>0</td>\n",
       "      <td>1</td>\n",
       "      <td>3866.85520</td>\n",
       "    </tr>\n",
       "    <tr>\n",
       "      <th>5</th>\n",
       "      <td>31</td>\n",
       "      <td>1</td>\n",
       "      <td>25.740</td>\n",
       "      <td>0</td>\n",
       "      <td>?</td>\n",
       "      <td>4</td>\n",
       "      <td>3756.62160</td>\n",
       "    </tr>\n",
       "    <tr>\n",
       "      <th>6</th>\n",
       "      <td>46</td>\n",
       "      <td>1</td>\n",
       "      <td>33.440</td>\n",
       "      <td>1</td>\n",
       "      <td>0</td>\n",
       "      <td>4</td>\n",
       "      <td>8240.58960</td>\n",
       "    </tr>\n",
       "    <tr>\n",
       "      <th>7</th>\n",
       "      <td>37</td>\n",
       "      <td>1</td>\n",
       "      <td>27.740</td>\n",
       "      <td>3</td>\n",
       "      <td>0</td>\n",
       "      <td>1</td>\n",
       "      <td>7281.50560</td>\n",
       "    </tr>\n",
       "    <tr>\n",
       "      <th>8</th>\n",
       "      <td>37</td>\n",
       "      <td>2</td>\n",
       "      <td>29.830</td>\n",
       "      <td>2</td>\n",
       "      <td>0</td>\n",
       "      <td>2</td>\n",
       "      <td>6406.41070</td>\n",
       "    </tr>\n",
       "    <tr>\n",
       "      <th>9</th>\n",
       "      <td>60</td>\n",
       "      <td>1</td>\n",
       "      <td>25.840</td>\n",
       "      <td>0</td>\n",
       "      <td>0</td>\n",
       "      <td>1</td>\n",
       "      <td>28923.13692</td>\n",
       "    </tr>\n",
       "  </tbody>\n",
       "</table>\n",
       "</div>"
      ],
      "text/plain": [
       "    0  1       2  3  4  5            6\n",
       "0  19  1  27.900  0  1  3  16884.92400\n",
       "1  18  2  33.770  1  0  4   1725.55230\n",
       "2  28  2  33.000  3  0  4   4449.46200\n",
       "3  33  2  22.705  0  0  1  21984.47061\n",
       "4  32  2  28.880  0  0  1   3866.85520\n",
       "5  31  1  25.740  0  ?  4   3756.62160\n",
       "6  46  1  33.440  1  0  4   8240.58960\n",
       "7  37  1  27.740  3  0  1   7281.50560\n",
       "8  37  2  29.830  2  0  2   6406.41070\n",
       "9  60  1  25.840  0  0  1  28923.13692"
      ]
     },
     "execution_count": 24,
     "metadata": {},
     "output_type": "execute_result"
    }
   ],
   "source": [
    "df = pd.read_csv(path,header=None)\n",
    "df.head(10)"
   ]
  },
  {
   "cell_type": "markdown",
   "id": "e6ccd2d7-c7e0-4690-ab7e-6099baa4e676",
   "metadata": {},
   "source": [
    "<details>\n",
    "    <summary>Click here for Solution</summary>\n",
    "\n",
    "```python\n",
    "df = pd.read_csv(path, header=None)\n",
    "print(df.head(10))\n",
    "```\n",
    "\n",
    "</details>\n"
   ]
  },
  {
   "cell_type": "markdown",
   "id": "397d549b-d998-4b47-bf49-14f0ed67f5c1",
   "metadata": {},
   "source": [
    "Add the headers to the dataframe, as mentioned in the project scenario. \n"
   ]
  },
  {
   "cell_type": "code",
   "execution_count": 25,
   "id": "7b55cb26-5a6d-4d42-b370-792b81bd50dc",
   "metadata": {},
   "outputs": [
    {
     "data": {
      "text/html": [
       "<div>\n",
       "<style scoped>\n",
       "    .dataframe tbody tr th:only-of-type {\n",
       "        vertical-align: middle;\n",
       "    }\n",
       "\n",
       "    .dataframe tbody tr th {\n",
       "        vertical-align: top;\n",
       "    }\n",
       "\n",
       "    .dataframe thead th {\n",
       "        text-align: right;\n",
       "    }\n",
       "</style>\n",
       "<table border=\"1\" class=\"dataframe\">\n",
       "  <thead>\n",
       "    <tr style=\"text-align: right;\">\n",
       "      <th></th>\n",
       "      <th>age</th>\n",
       "      <th>gender</th>\n",
       "      <th>bmi</th>\n",
       "      <th>no_of_children</th>\n",
       "      <th>smoker</th>\n",
       "      <th>region</th>\n",
       "      <th>charges</th>\n",
       "    </tr>\n",
       "  </thead>\n",
       "  <tbody>\n",
       "    <tr>\n",
       "      <th>0</th>\n",
       "      <td>19</td>\n",
       "      <td>1</td>\n",
       "      <td>27.900</td>\n",
       "      <td>0</td>\n",
       "      <td>1</td>\n",
       "      <td>3</td>\n",
       "      <td>16884.92400</td>\n",
       "    </tr>\n",
       "    <tr>\n",
       "      <th>1</th>\n",
       "      <td>18</td>\n",
       "      <td>2</td>\n",
       "      <td>33.770</td>\n",
       "      <td>1</td>\n",
       "      <td>0</td>\n",
       "      <td>4</td>\n",
       "      <td>1725.55230</td>\n",
       "    </tr>\n",
       "    <tr>\n",
       "      <th>2</th>\n",
       "      <td>28</td>\n",
       "      <td>2</td>\n",
       "      <td>33.000</td>\n",
       "      <td>3</td>\n",
       "      <td>0</td>\n",
       "      <td>4</td>\n",
       "      <td>4449.46200</td>\n",
       "    </tr>\n",
       "    <tr>\n",
       "      <th>3</th>\n",
       "      <td>33</td>\n",
       "      <td>2</td>\n",
       "      <td>22.705</td>\n",
       "      <td>0</td>\n",
       "      <td>0</td>\n",
       "      <td>1</td>\n",
       "      <td>21984.47061</td>\n",
       "    </tr>\n",
       "    <tr>\n",
       "      <th>4</th>\n",
       "      <td>32</td>\n",
       "      <td>2</td>\n",
       "      <td>28.880</td>\n",
       "      <td>0</td>\n",
       "      <td>0</td>\n",
       "      <td>1</td>\n",
       "      <td>3866.85520</td>\n",
       "    </tr>\n",
       "    <tr>\n",
       "      <th>5</th>\n",
       "      <td>31</td>\n",
       "      <td>1</td>\n",
       "      <td>25.740</td>\n",
       "      <td>0</td>\n",
       "      <td>?</td>\n",
       "      <td>4</td>\n",
       "      <td>3756.62160</td>\n",
       "    </tr>\n",
       "    <tr>\n",
       "      <th>6</th>\n",
       "      <td>46</td>\n",
       "      <td>1</td>\n",
       "      <td>33.440</td>\n",
       "      <td>1</td>\n",
       "      <td>0</td>\n",
       "      <td>4</td>\n",
       "      <td>8240.58960</td>\n",
       "    </tr>\n",
       "    <tr>\n",
       "      <th>7</th>\n",
       "      <td>37</td>\n",
       "      <td>1</td>\n",
       "      <td>27.740</td>\n",
       "      <td>3</td>\n",
       "      <td>0</td>\n",
       "      <td>1</td>\n",
       "      <td>7281.50560</td>\n",
       "    </tr>\n",
       "    <tr>\n",
       "      <th>8</th>\n",
       "      <td>37</td>\n",
       "      <td>2</td>\n",
       "      <td>29.830</td>\n",
       "      <td>2</td>\n",
       "      <td>0</td>\n",
       "      <td>2</td>\n",
       "      <td>6406.41070</td>\n",
       "    </tr>\n",
       "    <tr>\n",
       "      <th>9</th>\n",
       "      <td>60</td>\n",
       "      <td>1</td>\n",
       "      <td>25.840</td>\n",
       "      <td>0</td>\n",
       "      <td>0</td>\n",
       "      <td>1</td>\n",
       "      <td>28923.13692</td>\n",
       "    </tr>\n",
       "  </tbody>\n",
       "</table>\n",
       "</div>"
      ],
      "text/plain": [
       "  age  gender     bmi  no_of_children smoker  region      charges\n",
       "0  19       1  27.900               0      1       3  16884.92400\n",
       "1  18       2  33.770               1      0       4   1725.55230\n",
       "2  28       2  33.000               3      0       4   4449.46200\n",
       "3  33       2  22.705               0      0       1  21984.47061\n",
       "4  32       2  28.880               0      0       1   3866.85520\n",
       "5  31       1  25.740               0      ?       4   3756.62160\n",
       "6  46       1  33.440               1      0       4   8240.58960\n",
       "7  37       1  27.740               3      0       1   7281.50560\n",
       "8  37       2  29.830               2      0       2   6406.41070\n",
       "9  60       1  25.840               0      0       1  28923.13692"
      ]
     },
     "execution_count": 25,
     "metadata": {},
     "output_type": "execute_result"
    }
   ],
   "source": [
    "columns = ['age','gender','bmi','no_of_children','smoker','region','charges']\n",
    "\n",
    "df.columns = columns\n",
    "\n",
    "df.head(10)"
   ]
  },
  {
   "cell_type": "markdown",
   "id": "ca4a8ef0-3a1d-416f-9341-f934ab6683d2",
   "metadata": {},
   "source": [
    "<details>\n",
    "    <summary>Click here for Solution</summary>\n",
    "\n",
    "```python\n",
    "headers = [\"age\", \"gender\", \"bmi\", \"no_of_children\", \"smoker\", \"region\", \"charges\"]\n",
    "df.columns = headers\n",
    "```\n",
    "\n",
    "</details>\n"
   ]
  },
  {
   "cell_type": "markdown",
   "id": "34ef47c6-93e1-4bfa-8c0d-816733587559",
   "metadata": {},
   "source": [
    "Now, replace the '?' entries with 'NaN' values.\n"
   ]
  },
  {
   "cell_type": "code",
   "execution_count": 26,
   "id": "b93d3eb8-1954-4203-a001-467363c07e48",
   "metadata": {},
   "outputs": [],
   "source": [
    "df.replace(\"?\",np.nan,inplace=True)"
   ]
  },
  {
   "cell_type": "markdown",
   "id": "d755db34-6799-4f82-b500-3ab4f6cb281d",
   "metadata": {},
   "source": [
    "<details>\n",
    "    <summary>Click here for Solution</summary>\n",
    "\n",
    "```python\n",
    "df.replace('?', np.nan, inplace = True)\n",
    "```\n",
    "\n",
    "</details>\n"
   ]
  },
  {
   "cell_type": "markdown",
   "id": "9ba9548b-3bd3-4310-8b69-5591deba8928",
   "metadata": {},
   "source": [
    "# Task 2 : Data Wrangling\n"
   ]
  },
  {
   "cell_type": "markdown",
   "id": "1a307170-dfae-4bd9-8668-ab759b475958",
   "metadata": {},
   "source": [
    "Use `dataframe.info()` to identify the columns that have some 'Null' (or NaN) information.\n"
   ]
  },
  {
   "cell_type": "code",
   "execution_count": 27,
   "id": "4e324742-9106-464f-b689-c5af987642ab",
   "metadata": {},
   "outputs": [
    {
     "name": "stdout",
     "output_type": "stream",
     "text": [
      "<class 'pandas.core.frame.DataFrame'>\n",
      "RangeIndex: 2772 entries, 0 to 2771\n",
      "Data columns (total 7 columns):\n",
      " #   Column          Non-Null Count  Dtype  \n",
      "---  ------          --------------  -----  \n",
      " 0   age             2768 non-null   object \n",
      " 1   gender          2772 non-null   int64  \n",
      " 2   bmi             2772 non-null   float64\n",
      " 3   no_of_children  2772 non-null   int64  \n",
      " 4   smoker          2765 non-null   object \n",
      " 5   region          2772 non-null   int64  \n",
      " 6   charges         2772 non-null   float64\n",
      "dtypes: float64(2), int64(3), object(2)\n",
      "memory usage: 151.7+ KB\n"
     ]
    },
    {
     "data": {
      "text/html": [
       "<div>\n",
       "<style scoped>\n",
       "    .dataframe tbody tr th:only-of-type {\n",
       "        vertical-align: middle;\n",
       "    }\n",
       "\n",
       "    .dataframe tbody tr th {\n",
       "        vertical-align: top;\n",
       "    }\n",
       "\n",
       "    .dataframe thead th {\n",
       "        text-align: right;\n",
       "    }\n",
       "</style>\n",
       "<table border=\"1\" class=\"dataframe\">\n",
       "  <thead>\n",
       "    <tr style=\"text-align: right;\">\n",
       "      <th></th>\n",
       "      <th>age</th>\n",
       "      <th>gender</th>\n",
       "      <th>bmi</th>\n",
       "      <th>no_of_children</th>\n",
       "      <th>smoker</th>\n",
       "      <th>region</th>\n",
       "      <th>charges</th>\n",
       "    </tr>\n",
       "  </thead>\n",
       "  <tbody>\n",
       "    <tr>\n",
       "      <th>0</th>\n",
       "      <td>19</td>\n",
       "      <td>1</td>\n",
       "      <td>27.900</td>\n",
       "      <td>0</td>\n",
       "      <td>1</td>\n",
       "      <td>3</td>\n",
       "      <td>16884.92400</td>\n",
       "    </tr>\n",
       "    <tr>\n",
       "      <th>1</th>\n",
       "      <td>18</td>\n",
       "      <td>2</td>\n",
       "      <td>33.770</td>\n",
       "      <td>1</td>\n",
       "      <td>0</td>\n",
       "      <td>4</td>\n",
       "      <td>1725.55230</td>\n",
       "    </tr>\n",
       "    <tr>\n",
       "      <th>2</th>\n",
       "      <td>28</td>\n",
       "      <td>2</td>\n",
       "      <td>33.000</td>\n",
       "      <td>3</td>\n",
       "      <td>0</td>\n",
       "      <td>4</td>\n",
       "      <td>4449.46200</td>\n",
       "    </tr>\n",
       "    <tr>\n",
       "      <th>3</th>\n",
       "      <td>33</td>\n",
       "      <td>2</td>\n",
       "      <td>22.705</td>\n",
       "      <td>0</td>\n",
       "      <td>0</td>\n",
       "      <td>1</td>\n",
       "      <td>21984.47061</td>\n",
       "    </tr>\n",
       "    <tr>\n",
       "      <th>4</th>\n",
       "      <td>32</td>\n",
       "      <td>2</td>\n",
       "      <td>28.880</td>\n",
       "      <td>0</td>\n",
       "      <td>0</td>\n",
       "      <td>1</td>\n",
       "      <td>3866.85520</td>\n",
       "    </tr>\n",
       "    <tr>\n",
       "      <th>...</th>\n",
       "      <td>...</td>\n",
       "      <td>...</td>\n",
       "      <td>...</td>\n",
       "      <td>...</td>\n",
       "      <td>...</td>\n",
       "      <td>...</td>\n",
       "      <td>...</td>\n",
       "    </tr>\n",
       "    <tr>\n",
       "      <th>2767</th>\n",
       "      <td>47</td>\n",
       "      <td>1</td>\n",
       "      <td>45.320</td>\n",
       "      <td>1</td>\n",
       "      <td>0</td>\n",
       "      <td>4</td>\n",
       "      <td>8569.86180</td>\n",
       "    </tr>\n",
       "    <tr>\n",
       "      <th>2768</th>\n",
       "      <td>21</td>\n",
       "      <td>1</td>\n",
       "      <td>34.600</td>\n",
       "      <td>0</td>\n",
       "      <td>0</td>\n",
       "      <td>3</td>\n",
       "      <td>2020.17700</td>\n",
       "    </tr>\n",
       "    <tr>\n",
       "      <th>2769</th>\n",
       "      <td>19</td>\n",
       "      <td>2</td>\n",
       "      <td>26.030</td>\n",
       "      <td>1</td>\n",
       "      <td>1</td>\n",
       "      <td>1</td>\n",
       "      <td>16450.89470</td>\n",
       "    </tr>\n",
       "    <tr>\n",
       "      <th>2770</th>\n",
       "      <td>23</td>\n",
       "      <td>2</td>\n",
       "      <td>18.715</td>\n",
       "      <td>0</td>\n",
       "      <td>0</td>\n",
       "      <td>1</td>\n",
       "      <td>21595.38229</td>\n",
       "    </tr>\n",
       "    <tr>\n",
       "      <th>2771</th>\n",
       "      <td>54</td>\n",
       "      <td>2</td>\n",
       "      <td>31.600</td>\n",
       "      <td>0</td>\n",
       "      <td>0</td>\n",
       "      <td>3</td>\n",
       "      <td>9850.43200</td>\n",
       "    </tr>\n",
       "  </tbody>\n",
       "</table>\n",
       "<p>2772 rows × 7 columns</p>\n",
       "</div>"
      ],
      "text/plain": [
       "     age  gender     bmi  no_of_children smoker  region      charges\n",
       "0     19       1  27.900               0      1       3  16884.92400\n",
       "1     18       2  33.770               1      0       4   1725.55230\n",
       "2     28       2  33.000               3      0       4   4449.46200\n",
       "3     33       2  22.705               0      0       1  21984.47061\n",
       "4     32       2  28.880               0      0       1   3866.85520\n",
       "...   ..     ...     ...             ...    ...     ...          ...\n",
       "2767  47       1  45.320               1      0       4   8569.86180\n",
       "2768  21       1  34.600               0      0       3   2020.17700\n",
       "2769  19       2  26.030               1      1       1  16450.89470\n",
       "2770  23       2  18.715               0      0       1  21595.38229\n",
       "2771  54       2  31.600               0      0       3   9850.43200\n",
       "\n",
       "[2772 rows x 7 columns]"
      ]
     },
     "execution_count": 27,
     "metadata": {},
     "output_type": "execute_result"
    }
   ],
   "source": [
    "df.info()\n",
    "df"
   ]
  },
  {
   "cell_type": "markdown",
   "id": "83ec1324-216b-4f9a-a809-879a7ba282bb",
   "metadata": {},
   "source": [
    "<details>\n",
    "    <summary>Click here for Solution</summary>\n",
    "\n",
    "```python\n",
    "print(df.info())\n",
    "```\n",
    "\n",
    "</details>\n"
   ]
  },
  {
   "cell_type": "markdown",
   "id": "2f7ca9fd-8bef-4f8b-9053-a80602878bcf",
   "metadata": {},
   "source": [
    "Handle missing data:\n",
    "\n",
    "- For continuous attributes (e.g., age), replace missing values with the mean.\n",
    "- For categorical attributes (e.g., smoker), replace missing values with the most frequent value.\n",
    "- Update the data types of the respective columns.\n",
    "- Verify the update using `df.info()`.\n"
   ]
  },
  {
   "cell_type": "code",
   "execution_count": 34,
   "id": "0cd45889-201d-45cb-a4ab-921423676130",
   "metadata": {},
   "outputs": [
    {
     "name": "stdout",
     "output_type": "stream",
     "text": [
      "<class 'pandas.core.frame.DataFrame'>\n",
      "RangeIndex: 2772 entries, 0 to 2771\n",
      "Data columns (total 7 columns):\n",
      " #   Column          Non-Null Count  Dtype  \n",
      "---  ------          --------------  -----  \n",
      " 0   age             2772 non-null   int64  \n",
      " 1   gender          2772 non-null   int64  \n",
      " 2   bmi             2772 non-null   float64\n",
      " 3   no_of_children  2772 non-null   int64  \n",
      " 4   smoker          2772 non-null   int64  \n",
      " 5   region          2772 non-null   int64  \n",
      " 6   charges         2772 non-null   float64\n",
      "dtypes: float64(2), int64(5)\n",
      "memory usage: 151.7 KB\n"
     ]
    }
   ],
   "source": [
    "mean_age = df['age'].astype('float').mean(axis=0)\n",
    "df[\"age\"] = df[\"age\"].replace(np.nan, mean_age)\n",
    "\n",
    "\n",
    "count_smoke = df['smoker'].value_counts().idxmax()\n",
    "df[\"smoker\"] = df[\"smoker\"].replace(np.nan, count_smoke)\n",
    "df[[\"smoker\",\"age\"]] = df[[\"smoker\",\"age\"]].astype('int64')\n",
    "\n",
    "df.info()\n"
   ]
  },
  {
   "cell_type": "markdown",
   "id": "9fbe014d-9303-42f9-8695-b63e965fdfb1",
   "metadata": {},
   "source": [
    "<details>\n",
    "    <summary>Click here for Solution</summary>\n",
    "\n",
    "```python\n",
    "# smoker is a categorical attribute, replace with most frequent entry\n",
    "is_smoker = df['smoker'].value_counts().idxmax()\n",
    "df[\"smoker\"].replace(np.nan, is_smoker, inplace=True)\n",
    "\n",
    "# age is a continuous variable, replace with mean age\n",
    "mean_age = df['age'].astype('float').mean(axis=0)\n",
    "df[\"age\"].replace(np.nan, mean_age, inplace=True)\n",
    "\n",
    "# Update data types\n",
    "df[[\"age\",\"smoker\"]] = df[[\"age\",\"smoker\"]].astype(\"int\")\n",
    "\n",
    "print(df.info())\n",
    "```\n",
    "\n",
    "</details>\n"
   ]
  },
  {
   "cell_type": "markdown",
   "id": "a6c89bca-c7d2-407d-8874-d1e1cfce1216",
   "metadata": {},
   "source": [
    "Also note, that the `charges` column has values which are more than 2 decimal places long. Update the `charges` column such that all values are rounded to nearest 2 decimal places. Verify conversion by printing the first 5 values of the updated dataframe.\n"
   ]
  },
  {
   "cell_type": "code",
   "execution_count": 37,
   "id": "aecbd133-94f1-418f-8050-873deb97e285",
   "metadata": {},
   "outputs": [
    {
     "data": {
      "text/html": [
       "<div>\n",
       "<style scoped>\n",
       "    .dataframe tbody tr th:only-of-type {\n",
       "        vertical-align: middle;\n",
       "    }\n",
       "\n",
       "    .dataframe tbody tr th {\n",
       "        vertical-align: top;\n",
       "    }\n",
       "\n",
       "    .dataframe thead th {\n",
       "        text-align: right;\n",
       "    }\n",
       "</style>\n",
       "<table border=\"1\" class=\"dataframe\">\n",
       "  <thead>\n",
       "    <tr style=\"text-align: right;\">\n",
       "      <th></th>\n",
       "      <th>age</th>\n",
       "      <th>gender</th>\n",
       "      <th>bmi</th>\n",
       "      <th>no_of_children</th>\n",
       "      <th>smoker</th>\n",
       "      <th>region</th>\n",
       "      <th>charges</th>\n",
       "    </tr>\n",
       "  </thead>\n",
       "  <tbody>\n",
       "    <tr>\n",
       "      <th>0</th>\n",
       "      <td>19</td>\n",
       "      <td>1</td>\n",
       "      <td>27.900</td>\n",
       "      <td>0</td>\n",
       "      <td>1</td>\n",
       "      <td>3</td>\n",
       "      <td>16884.92</td>\n",
       "    </tr>\n",
       "    <tr>\n",
       "      <th>1</th>\n",
       "      <td>18</td>\n",
       "      <td>2</td>\n",
       "      <td>33.770</td>\n",
       "      <td>1</td>\n",
       "      <td>0</td>\n",
       "      <td>4</td>\n",
       "      <td>1725.55</td>\n",
       "    </tr>\n",
       "    <tr>\n",
       "      <th>2</th>\n",
       "      <td>28</td>\n",
       "      <td>2</td>\n",
       "      <td>33.000</td>\n",
       "      <td>3</td>\n",
       "      <td>0</td>\n",
       "      <td>4</td>\n",
       "      <td>4449.46</td>\n",
       "    </tr>\n",
       "    <tr>\n",
       "      <th>3</th>\n",
       "      <td>33</td>\n",
       "      <td>2</td>\n",
       "      <td>22.705</td>\n",
       "      <td>0</td>\n",
       "      <td>0</td>\n",
       "      <td>1</td>\n",
       "      <td>21984.47</td>\n",
       "    </tr>\n",
       "    <tr>\n",
       "      <th>4</th>\n",
       "      <td>32</td>\n",
       "      <td>2</td>\n",
       "      <td>28.880</td>\n",
       "      <td>0</td>\n",
       "      <td>0</td>\n",
       "      <td>1</td>\n",
       "      <td>3866.86</td>\n",
       "    </tr>\n",
       "  </tbody>\n",
       "</table>\n",
       "</div>"
      ],
      "text/plain": [
       "   age  gender     bmi  no_of_children  smoker  region   charges\n",
       "0   19       1  27.900               0       1       3  16884.92\n",
       "1   18       2  33.770               1       0       4   1725.55\n",
       "2   28       2  33.000               3       0       4   4449.46\n",
       "3   33       2  22.705               0       0       1  21984.47\n",
       "4   32       2  28.880               0       0       1   3866.86"
      ]
     },
     "execution_count": 37,
     "metadata": {},
     "output_type": "execute_result"
    }
   ],
   "source": [
    "df['charges'] = df['charges'].round(2)\n",
    "df.head()"
   ]
  },
  {
   "cell_type": "markdown",
   "id": "47762271-f81e-4b7b-9782-27c33d34c067",
   "metadata": {},
   "source": [
    "<details>\n",
    "    <summary>Click here for Solution</summary>\n",
    "\n",
    "```python\n",
    "df[[\"charges\"]] = np.round(df[[\"charges\"]],2)\n",
    "print(df.head())\n",
    "```\n",
    "</details>\n"
   ]
  },
  {
   "cell_type": "markdown",
   "id": "42b99733-2d6e-44a8-8128-fa21010f9ff3",
   "metadata": {},
   "source": [
    "# Task 3 : Exploratory Data Analysis (EDA)\n",
    "\n",
    "Implement the regression plot for `charges` with respect to `bmi`. \n"
   ]
  },
  {
   "cell_type": "code",
   "execution_count": 42,
   "id": "7a68dcb2-2c34-4698-abe3-0376f2bb3489",
   "metadata": {},
   "outputs": [
    {
     "data": {
      "text/plain": [
       "(0.0, 66902.85800000001)"
      ]
     },
     "execution_count": 42,
     "metadata": {},
     "output_type": "execute_result"
    },
    {
     "data": {
      "image/png": "[encoded data removed]",
      "text/plain": [
       "<Figure size 640x480 with 1 Axes>"
      ]
     },
     "metadata": {},
     "output_type": "display_data"
    }
   ],
   "source": [
    "sns.regplot(data= df,x='bmi',y='charges',line_kws={'color':'red'})\n",
    "plt.ylim(0,)"
   ]
  },
  {
   "cell_type": "markdown",
   "id": "f96fb73c-b78b-4dcd-8de3-fea8965c53d6",
   "metadata": {},
   "source": [
    "<details>\n",
    "    <summary>Click here for Solution</summary>\n",
    "\n",
    "```python\n",
    "sns.regplot(x=\"bmi\", y=\"charges\", data=df, line_kws={\"color\": \"red\"})\n",
    "plt.ylim(0,)\n",
    "```\n",
    "</details>\n"
   ]
  },
  {
   "cell_type": "markdown",
   "id": "5a7d9451-d246-45e7-92c9-e65481c093d0",
   "metadata": {},
   "source": [
    "Implement the box plot for `charges` with respect to `smoker`.\n"
   ]
  },
  {
   "cell_type": "code",
   "execution_count": 41,
   "id": "b425ab42-04ef-4747-a954-8c7dc1939dc0",
   "metadata": {},
   "outputs": [
    {
     "data": {
      "text/plain": [
       "<Axes: xlabel='smoker', ylabel='charges'>"
      ]
     },
     "execution_count": 41,
     "metadata": {},
     "output_type": "execute_result"
    },
    {
     "data": {
      "image/png": "[encoded data removed]",
      "text/plain": [
       "<Figure size 640x480 with 1 Axes>"
      ]
     },
     "metadata": {},
     "output_type": "display_data"
    }
   ],
   "source": [
    "sns.boxplot(data=df,x=\"smoker\",y=\"charges\")"
   ]
  },
  {
   "cell_type": "markdown",
   "id": "6f3dc66f-4359-4323-ab7e-3bb2228d5c2f",
   "metadata": {},
   "source": [
    "<details>\n",
    "    <summary>Click here for Solution</summary>\n",
    "\n",
    "```python\n",
    "sns.boxplot(x=\"smoker\", y=\"charges\", data=df)\n",
    "```\n",
    "</details>\n"
   ]
  },
  {
   "cell_type": "markdown",
   "id": "681e06b7-f162-447b-843e-d256cfcb3fa2",
   "metadata": {},
   "source": [
    "Print the correlation matrix for the dataset.\n"
   ]
  },
  {
   "cell_type": "code",
   "execution_count": 43,
   "id": "e74e3f04-3063-4ab7-aedc-24f822262e26",
   "metadata": {},
   "outputs": [
    {
     "data": {
      "text/html": [
       "<div>\n",
       "<style scoped>\n",
       "    .dataframe tbody tr th:only-of-type {\n",
       "        vertical-align: middle;\n",
       "    }\n",
       "\n",
       "    .dataframe tbody tr th {\n",
       "        vertical-align: top;\n",
       "    }\n",
       "\n",
       "    .dataframe thead th {\n",
       "        text-align: right;\n",
       "    }\n",
       "</style>\n",
       "<table border=\"1\" class=\"dataframe\">\n",
       "  <thead>\n",
       "    <tr style=\"text-align: right;\">\n",
       "      <th></th>\n",
       "      <th>age</th>\n",
       "      <th>gender</th>\n",
       "      <th>bmi</th>\n",
       "      <th>no_of_children</th>\n",
       "      <th>smoker</th>\n",
       "      <th>region</th>\n",
       "      <th>charges</th>\n",
       "    </tr>\n",
       "  </thead>\n",
       "  <tbody>\n",
       "    <tr>\n",
       "      <th>age</th>\n",
       "      <td>1.000000</td>\n",
       "      <td>-0.026046</td>\n",
       "      <td>0.113048</td>\n",
       "      <td>0.037574</td>\n",
       "      <td>-0.023286</td>\n",
       "      <td>-0.007167</td>\n",
       "      <td>0.298624</td>\n",
       "    </tr>\n",
       "    <tr>\n",
       "      <th>gender</th>\n",
       "      <td>-0.026046</td>\n",
       "      <td>1.000000</td>\n",
       "      <td>0.042924</td>\n",
       "      <td>0.016020</td>\n",
       "      <td>0.082326</td>\n",
       "      <td>0.022213</td>\n",
       "      <td>0.062837</td>\n",
       "    </tr>\n",
       "    <tr>\n",
       "      <th>bmi</th>\n",
       "      <td>0.113048</td>\n",
       "      <td>0.042924</td>\n",
       "      <td>1.000000</td>\n",
       "      <td>-0.001492</td>\n",
       "      <td>0.011489</td>\n",
       "      <td>0.271119</td>\n",
       "      <td>0.199846</td>\n",
       "    </tr>\n",
       "    <tr>\n",
       "      <th>no_of_children</th>\n",
       "      <td>0.037574</td>\n",
       "      <td>0.016020</td>\n",
       "      <td>-0.001492</td>\n",
       "      <td>1.000000</td>\n",
       "      <td>0.006362</td>\n",
       "      <td>-0.025717</td>\n",
       "      <td>0.066442</td>\n",
       "    </tr>\n",
       "    <tr>\n",
       "      <th>smoker</th>\n",
       "      <td>-0.023286</td>\n",
       "      <td>0.082326</td>\n",
       "      <td>0.011489</td>\n",
       "      <td>0.006362</td>\n",
       "      <td>1.000000</td>\n",
       "      <td>0.054077</td>\n",
       "      <td>0.788783</td>\n",
       "    </tr>\n",
       "    <tr>\n",
       "      <th>region</th>\n",
       "      <td>-0.007167</td>\n",
       "      <td>0.022213</td>\n",
       "      <td>0.271119</td>\n",
       "      <td>-0.025717</td>\n",
       "      <td>0.054077</td>\n",
       "      <td>1.000000</td>\n",
       "      <td>0.054058</td>\n",
       "    </tr>\n",
       "    <tr>\n",
       "      <th>charges</th>\n",
       "      <td>0.298624</td>\n",
       "      <td>0.062837</td>\n",
       "      <td>0.199846</td>\n",
       "      <td>0.066442</td>\n",
       "      <td>0.788783</td>\n",
       "      <td>0.054058</td>\n",
       "      <td>1.000000</td>\n",
       "    </tr>\n",
       "  </tbody>\n",
       "</table>\n",
       "</div>"
      ],
      "text/plain": [
       "                     age    gender       bmi  no_of_children    smoker  \\\n",
       "age             1.000000 -0.026046  0.113048        0.037574 -0.023286   \n",
       "gender         -0.026046  1.000000  0.042924        0.016020  0.082326   \n",
       "bmi             0.113048  0.042924  1.000000       -0.001492  0.011489   \n",
       "no_of_children  0.037574  0.016020 -0.001492        1.000000  0.006362   \n",
       "smoker         -0.023286  0.082326  0.011489        0.006362  1.000000   \n",
       "region         -0.007167  0.022213  0.271119       -0.025717  0.054077   \n",
       "charges         0.298624  0.062837  0.199846        0.066442  0.788783   \n",
       "\n",
       "                  region   charges  \n",
       "age            -0.007167  0.298624  \n",
       "gender          0.022213  0.062837  \n",
       "bmi             0.271119  0.199846  \n",
       "no_of_children -0.025717  0.066442  \n",
       "smoker          0.054077  0.788783  \n",
       "region          1.000000  0.054058  \n",
       "charges         0.054058  1.000000  "
      ]
     },
     "execution_count": 43,
     "metadata": {},
     "output_type": "execute_result"
    }
   ],
   "source": [
    "df.corr()\n"
   ]
  },
  {
   "cell_type": "markdown",
   "id": "8c7298bd-5d2e-44bb-91b8-0c39b91ccff2",
   "metadata": {},
   "source": [
    "<details>\n",
    "    <summary>Click here for Solution</summary>\n",
    "\n",
    "```python\n",
    "print(df.corr())\n",
    "```\n",
    "</details>\n"
   ]
  },
  {
   "cell_type": "markdown",
   "id": "b5a03c3d-ef46-4a38-928e-f53e5e694840",
   "metadata": {},
   "source": [
    "# Task 4 : Model Development\n",
    "\n",
    "Fit a linear regression model that may be used to predict the `charges` value, just by using the `smoker` attribute of the dataset. Print the $ R^2 $ score of this model.\n"
   ]
  },
  {
   "cell_type": "code",
   "execution_count": 49,
   "id": "ad126824-7f90-404b-b063-0be76fab5298",
   "metadata": {},
   "outputs": [
    {
     "name": "stdout",
     "output_type": "stream",
     "text": [
      "0.6221791733924185\n"
     ]
    }
   ],
   "source": [
    "Lr = LinearRegression()\n",
    "Lr.fit(X=df[[\"smoker\"]],y=df[\"charges\"])\n",
    "print(Lr.score(df[['smoker']],df[['charges']]))"
   ]
  },
  {
   "cell_type": "markdown",
   "id": "05907bea-f279-4c26-abef-834b80a60fa5",
   "metadata": {},
   "source": [
    "<details>\n",
    "    <summary>Click here for Solution</summary>\n",
    "\n",
    "```python\n",
    "X = df[['smoker']]\n",
    "Y = df['charges']\n",
    "lm = LinearRegression()\n",
    "lm.fit(X,Y)\n",
    "print(lm.score(X, Y))\n",
    "```\n",
    "</details>\n"
   ]
  },
  {
   "cell_type": "markdown",
   "id": "2f196d1b-62f0-4297-8923-9f20e0f121a1",
   "metadata": {},
   "source": [
    "Fit a linear regression model that may be used to predict the `charges` value, just by using all other attributes of the dataset. Print the $ R^2 $ score of this model. You should see an improvement in the performance.\n"
   ]
  },
  {
   "cell_type": "code",
   "execution_count": 55,
   "id": "f9561829-912c-456b-9b6e-86315424ea2c",
   "metadata": {},
   "outputs": [
    {
     "name": "stdout",
     "output_type": "stream",
     "text": [
      "0.7504083820289634\n"
     ]
    }
   ],
   "source": [
    "x_lr2 = df.drop('charges',axis=1)\n",
    "y_lr2 = df['charges']\n",
    "Lr2 = LinearRegression()\n",
    "\n",
    "Lr2.fit(X=x_lr2,y=y_lr2)\n",
    "\n",
    "print(Lr2.score(x_lr2,y_lr2))\n",
    "\n"
   ]
  },
  {
   "cell_type": "markdown",
   "id": "4ab645e3-e827-45fd-a95a-fd3dc25da356",
   "metadata": {},
   "source": [
    "<details>\n",
    "    <summary>Click here for Solution</summary>\n",
    "\n",
    "```python\n",
    "# definition of Y and lm remain same as used in last cell. \n",
    "Z = df[[\"age\", \"gender\", \"bmi\", \"no_of_children\", \"smoker\", \"region\"]]\n",
    "lm.fit(Z,Y)\n",
    "print(lm.score(Z, Y))\n",
    "```\n",
    "</details>\n"
   ]
  },
  {
   "cell_type": "markdown",
   "id": "1776a321-581a-4332-a5e5-dfd7b7956288",
   "metadata": {},
   "source": [
    "Create a training pipeline that uses `StandardScaler()`, `PolynomialFeatures()` and `LinearRegression()` to create a model that can predict the `charges` value using all the other attributes of the dataset. There should be even further improvement in the performance.\n"
   ]
  },
  {
   "cell_type": "code",
   "execution_count": 58,
   "id": "6808a34e-c191-4f7f-9e26-0a6fe36a4a23",
   "metadata": {},
   "outputs": [
    {
     "name": "stdout",
     "output_type": "stream",
     "text": [
      "0.8452576213500093\n"
     ]
    }
   ],
   "source": [
    "input = [('scale',StandardScaler()),('polynomial',PolynomialFeatures(include_bias=False)),('model',LinearRegression())]\n",
    "\n",
    "pipe = Pipeline(input)\n",
    "x_lr2 = x_lr2.astype('float')\n",
    "pipe.fit(x_lr2,y_lr2)\n",
    "ypipe = pipe.predict(x_lr2)\n",
    "print(r2_score(y_lr2,ypipe))"
   ]
  },
  {
   "cell_type": "markdown",
   "id": "02668585-353e-4660-9f24-feb2d80d2ef3",
   "metadata": {},
   "source": [
    "<details>\n",
    "    <summary>Click here for Solution</summary>\n",
    "\n",
    "```python\n",
    "# Y and Z use the same values as defined in previous cells \n",
    "Input=[('scale',StandardScaler()), ('polynomial', PolynomialFeatures(include_bias=False)), ('model', LinearRegression())]\n",
    "pipe=Pipeline(Input)\n",
    "Z = Z.astype(float)\n",
    "pipe.fit(Z,Y)\n",
    "ypipe=pipe.predict(Z)\n",
    "print(r2_score(Y,ypipe))\n",
    "```\n",
    "</details>\n"
   ]
  },
  {
   "cell_type": "markdown",
   "id": "5a16a947-85ae-4466-ac49-a2dcdb234481",
   "metadata": {},
   "source": [
    "# Task 5 : Model Refinement\n",
    "\n",
    "Split the data into training and testing subsets, assuming that 20% of the data will be reserved for testing.\n"
   ]
  },
  {
   "cell_type": "code",
   "execution_count": 61,
   "id": "a12e8460-01de-4aae-beb9-53abe4c486fd",
   "metadata": {},
   "outputs": [],
   "source": [
    "x_train, x_test,y_train,y_test = train_test_split(x_lr2,y_lr2,test_size=0.2, random_state=1)"
   ]
  },
  {
   "cell_type": "markdown",
   "id": "89574325-87fa-491b-a1f4-7b06f738cf58",
   "metadata": {},
   "source": [
    "<details>\n",
    "    <summary>Click here for Solution</summary>\n",
    "\n",
    "```python\n",
    "# Z and Y hold same values as in previous cells\n",
    "x_train, x_test, y_train, y_test = train_test_split(Z, Y, test_size=0.2, random_state=1)\n",
    "```\n",
    "</details>\n"
   ]
  },
  {
   "cell_type": "markdown",
   "id": "06c8b22d-11b0-41e7-b987-1663e4c73821",
   "metadata": {},
   "source": [
    "Initialize a Ridge regressor that used hyperparameter $ \\alpha = 0.1 $. Fit the model using training data data subset. Print the $ R^2 $ score for the testing data.\n"
   ]
  },
  {
   "cell_type": "code",
   "execution_count": 75,
   "id": "1c650a5d-cce5-4f4c-a7eb-c67b1cbe502b",
   "metadata": {},
   "outputs": [
    {
     "data": {
      "text/plain": [
       "0.5879058192964881"
      ]
     },
     "execution_count": 75,
     "metadata": {},
     "output_type": "execute_result"
    }
   ],
   "source": [
    "alpha = 0.1\n",
    "RR = Ridge(0.1)\n",
    "RR.fit(x_train,y_train)\n",
    "\n",
    "y_pred = RR.predict(x_test)\n",
    "\n",
    "r2_score(y_pred,y_test)"
   ]
  },
  {
   "cell_type": "markdown",
   "id": "ef9b2ad8-3e05-42d5-9135-fa3dba18d842",
   "metadata": {},
   "source": [
    "<details>\n",
    "    <summary>Click here for Solution</summary>\n",
    "\n",
    "```python\n",
    "# x_train, x_test, y_train, y_test hold same values as in previous cells\n",
    "RidgeModel=Ridge(alpha=0.1)\n",
    "RidgeModel.fit(x_train, y_train)\n",
    "yhat = RidgeModel.predict(x_test)\n",
    "print(r2_score(y_test,yhat))\n",
    "```\n",
    "</details>\n"
   ]
  },
  {
   "cell_type": "markdown",
   "id": "34aeac81-890b-4895-8dad-c4507ad519ac",
   "metadata": {},
   "source": [
    "Apply polynomial transformation to the training parameters with degree=2. Use this transformed feature set to fit the same regression model, as above, using the training subset. Print the $ R^2 $ score for the testing subset.\n"
   ]
  },
  {
   "cell_type": "code",
   "execution_count": 74,
   "id": "51a28cf2-633d-48a8-9796-6d1af5144bb7",
   "metadata": {},
   "outputs": [
    {
     "name": "stdout",
     "output_type": "stream",
     "text": [
      "0.7835631107608146\n"
     ]
    }
   ],
   "source": [
    "pr = PolynomialFeatures(degree=2)\n",
    "x_train_pr = pr.fit_transform(x_train)\n",
    "x_test_pr = pr.fit_transform(x_test)\n",
    "RR.fit(x_train_pr, y_train)\n",
    "y_hat = RR.predict(x_test_pr)\n",
    "print(r2_score(y_test,y_hat))"
   ]
  },
  {
   "cell_type": "markdown",
   "id": "329564be-00a2-487e-8c90-4f50f490aa17",
   "metadata": {},
   "source": [
    "<details>\n",
    "    <summary>Click here for Solution</summary>\n",
    "\n",
    "```python\n",
    "# x_train, x_test, y_train, y_test hold same values as in previous cells\n",
    "pr = PolynomialFeatures(degree=2)\n",
    "x_train_pr = pr.fit_transform(x_train)\n",
    "x_test_pr = pr.fit_transform(x_test)\n",
    "RidgeModel.fit(x_train_pr, y_train)\n",
    "y_hat = RidgeModel.predict(x_test_pr)\n",
    "print(r2_score(y_test,y_hat))\n",
    "```\n",
    "</details>\n"
   ]
  },
  {
   "cell_type": "markdown",
   "id": "420e328b-3344-443e-8fdc-1582fbde160d",
   "metadata": {},
   "source": [
    "# Congratulations! You have completed this project\n"
   ]
  },
  {
   "cell_type": "markdown",
   "id": "dbb62135-f9c8-4d37-8633-464e5371c5b6",
   "metadata": {},
   "source": [
    "## Authors\n"
   ]
  },
  {
   "cell_type": "markdown",
   "id": "83c8a3e8-a124-4a88-bdde-165b12f285c8",
   "metadata": {},
   "source": [
    "[Abhishek Gagneja](https://www.coursera.org/instructor/~129186572)\n",
    "\n",
    "[Vicky Kuo](https://author.skills.network/instructors/vicky_kuo)\n"
   ]
  },
  {
   "cell_type": "markdown",
   "id": "6cec297a-d46b-4737-952f-ca033cf45bfa",
   "metadata": {},
   "source": [
    "## Change Log\n"
   ]
  },
  {
   "cell_type": "markdown",
   "id": "47195a46-5c29-435c-ad70-2a0e93feae96",
   "metadata": {},
   "source": [
    "|Date (YYYY-MM-DD)|Version|Changed By|Change Description|\n",
    "|-|-|-|-|\n",
    "|2023-09-16|0.1|Abhishek Gagneja|Initial Version Created|\n",
    "|2023-09-19|0.2|Vicky Kuo|Reviewed and Revised|\n"
   ]
  },
  {
   "cell_type": "markdown",
   "id": "102e52f2-5ce6-4a60-87e8-b2d7ed41aee3",
   "metadata": {},
   "source": [
    "<h3> Copyright © 2023 IBM Corporation. All rights reserved. </h3>\n"
   ]
  }
 ],
 "metadata": {
  "kernelspec": {
   "display_name": ".venv",
   "language": "python",
   "name": "python3"
  },
  "language_info": {
   "codemirror_mode": {
    "name": "ipython",
    "version": 3
   },
   "file_extension": ".py",
   "mimetype": "text/x-python",
   "name": "python",
   "nbconvert_exporter": "python",
   "pygments_lexer": "ipython3",
   "version": "3.12.3"
  }
 },
 "nbformat": 4,
 "nbformat_minor": 4
}
