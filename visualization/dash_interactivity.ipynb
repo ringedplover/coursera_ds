{
 "cells": [
  {
   "cell_type": "code",
   "execution_count": null,
   "metadata": {},
   "outputs": [],
   "source": [
    "!pip install dash"
   ]
  },
  {
   "cell_type": "code",
   "execution_count": null,
   "metadata": {},
   "outputs": [],
   "source": [
    "# Import required libraries\n",
    "import pandas as pd\n",
    "import plotly.express as px\n",
    "import dash\n",
    "from dash import dcc\n",
    "from dash import html\n",
    "from dash.dependencies import Input, Output\n",
    "\n",
    "# Read the airline data into pandas dataframe\n",
    "airline_data = pd.read_csv('https://cf-courses-data.s3.us.cloud-object-storage.appdomain.cloud/IBMDeveloperSkillsNetwork-DV0101EN-SkillsNetwork/Data%20Files/airline_data.csv', \n",
    "                           encoding=\"ISO-8859-1\",\n",
    "                           dtype={'Div1Airport': str, 'Div1TailNum': str, \n",
    "                                  'Div2Airport': str, 'Div2TailNum': str})\n",
    "\n",
    "app = dash.Dash(__name__)\n",
    "\n",
    "app.layout = html.Div(children=[\n",
    "    html.H1('Total number of flights to the destination state split by reporting airline',\n",
    "            style={'textAlign': 'center', 'color': '#503D36', 'font-size': 40}),\n",
    "    html.Div([\"Input Year: \", dcc.Input(id='input-year', value='2010',\n",
    "                                        type='number', style={'height': '50px', 'font-size': 35})],\n",
    "             style={'font-size': 40}),\n",
    "    html.Br(), html.Br(),\n",
    "    html.Div(dcc.Graph(id='bar-plot')),\n",
    "])\n",
    "\n",
    "@app.callback(\n",
    "    Output(component_id='bar-plot', component_property='figure'),\n",
    "    Input(component_id='input-year', component_property='value')\n",
    ")\n",
    "def get_graph(entered_year):\n",
    "    df = airline_data[airline_data['Year'] == int(entered_year)]\n",
    "    bar_data = df.groupby('DestState')['Flights'].sum().reset_index()\n",
    "    fig = px.bar(bar_data, x=\"DestState\", y=\"Flights\", title='Total number of flights to the destination state split by reporting airline')\n",
    "    fig.update_layout(title='Flights to Destination State', xaxis_title='DestState', yaxis_title='Flights')\n",
    "    return fig\n",
    "\n",
    "if __name__ == '__main__':\n",
    "    app.run_server(port=8051)\n"
   ]
  }
 ],
 "metadata": {
  "kernelspec": {
   "display_name": "coursera",
   "language": "python",
   "name": "python3"
  },
  "language_info": {
   "name": "python",
   "version": "3.12.7"
  }
 },
 "nbformat": 4,
 "nbformat_minor": 2
}
